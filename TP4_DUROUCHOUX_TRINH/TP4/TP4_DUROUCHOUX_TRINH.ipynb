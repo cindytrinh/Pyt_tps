{
 "cells": [
  {
   "cell_type": "markdown",
   "metadata": {},
   "source": [
    "# TP4 : K-nearest neighbours & cython"
   ]
  },
  {
   "cell_type": "markdown",
   "metadata": {},
   "source": [
    "## A. Useful iterable objects: _range_, _enumerate_ , _zip_, dictionaries...\n",
    "When using loops, _iterators_ can take various forms. When using a simple number, _range()_ is fine as in:"
   ]
  },
  {
   "cell_type": "code",
   "execution_count": 2,
   "metadata": {},
   "outputs": [],
   "source": [
    "import matplotlib.pyplot as plt\n",
    "import numpy as np\n",
    "\n",
    "%matplotlib notebook"
   ]
  },
  {
   "cell_type": "code",
   "execution_count": 2,
   "metadata": {},
   "outputs": [
    {
     "name": "stdout",
     "output_type": "stream",
     "text": [
      "0\n",
      "1\n",
      "2\n",
      "3\n",
      "4\n"
     ]
    }
   ],
   "source": [
    "for i in range(5):\n",
    "    print(i)"
   ]
  },
  {
   "cell_type": "markdown",
   "metadata": {},
   "source": [
    "_range()_ is **iterable**, not building an explicit list in the memory. \n",
    "You may also use simple lists as in:"
   ]
  },
  {
   "cell_type": "code",
   "execution_count": 3,
   "metadata": {},
   "outputs": [
    {
     "name": "stdout",
     "output_type": "stream",
     "text": [
      "cat 3\n",
      "window 6\n",
      "defenestrate 12\n"
     ]
    }
   ],
   "source": [
    "words = ['cat', 'window', 'defenestrate']\n",
    "for w in words:\n",
    "    print(w, len(w))"
   ]
  },
  {
   "cell_type": "markdown",
   "metadata": {},
   "source": [
    "If you want to use both the element of a list and its index inthis list, **enumerate()** might be useful.\n",
    "Go to <https://docs.python.org/3.6/library/functions.html#enumerate> for more information."
   ]
  },
  {
   "cell_type": "code",
   "execution_count": 4,
   "metadata": {},
   "outputs": [
    {
     "name": "stdout",
     "output_type": "stream",
     "text": [
      "0 tic\n",
      "1 tac\n",
      "2 toe\n"
     ]
    }
   ],
   "source": [
    "for i, v in enumerate(['tic', 'tac', 'toe']):\n",
    "    print(i, v)"
   ]
  },
  {
   "cell_type": "markdown",
   "metadata": {},
   "source": [
    "When looping through **dictionaries**, the key and corresponding value can be retrieved at the same time using the items() method."
   ]
  },
  {
   "cell_type": "code",
   "execution_count": 5,
   "metadata": {},
   "outputs": [
    {
     "name": "stdout",
     "output_type": "stream",
     "text": [
      "gallahad the pure\n",
      "robin the brave\n"
     ]
    }
   ],
   "source": [
    "knights = {'gallahad': 'the pure', 'robin': 'the brave'}\n",
    "for k, v in knights.items():\n",
    "    print(k, v)"
   ]
  },
  {
   "cell_type": "markdown",
   "metadata": {},
   "source": [
    "\n",
    "\n",
    "To loop over two or more sequences at the same time, the entries can be paired with the **zip()** function."
   ]
  },
  {
   "cell_type": "code",
   "execution_count": 6,
   "metadata": {},
   "outputs": [
    {
     "name": "stdout",
     "output_type": "stream",
     "text": [
      "What is your name?  It is lancelot.\n",
      "What is your quest?  It is the holy grail.\n",
      "What is your favorite color?  It is blue.\n"
     ]
    }
   ],
   "source": [
    "questions = ['name', 'quest', 'favorite color']\n",
    "answers = ['lancelot', 'the holy grail', 'blue']\n",
    "for q, a in zip(questions, answers):\n",
    "    print('What is your {0}?  It is {1}.'.format(q, a))"
   ]
  },
  {
   "cell_type": "markdown",
   "metadata": {},
   "source": [
    "Note in passing how the final string has been obtained using _.format(q,a)_."
   ]
  },
  {
   "cell_type": "markdown",
   "metadata": {},
   "source": [
    "Go to <https://docs.python.org/3.6/tutorial/datastructures.html#tut-loopidioms> for more details on loops."
   ]
  },
  {
   "cell_type": "markdown",
   "metadata": {},
   "source": [
    "## B. Classification using the K-nearest neighbours algorithm"
   ]
  },
  {
   "cell_type": "markdown",
   "metadata": {},
   "source": [
    "This practical is a first introduction to classification using the most intuitive non parametric method : K nearest neighbours. The principle is the following. A set of labelled observations which can belong to 2 classes is given as a learning set. Then new observations must be classified as either of class 1 or 2. The principle of K-NN is to label a new observation from the most frequent label among its K nearest neighbours."
   ]
  },
  {
   "cell_type": "markdown",
   "metadata": {},
   "source": [
    "### 1. Using synthetic data\n",
    "Load the training and test data sets synth_train.txt and synth_test.txt. Targets belong to {1,2} and entries belong to $\\mathbb{R}^2$. We have 100 training data samples and 200 test samples.\n",
    "    * the 1st column contains the label of the class the sample,\n",
    "    * columns 2 & 3 contain the coordinates of each sample in 2D.\n"
   ]
  },
  {
   "cell_type": "code",
   "execution_count": 251,
   "metadata": {},
   "outputs": [],
   "source": [
    "# load the training set\n",
    "train = np.loadtxt('synth_train.txt')  #...,delimiter=',') if there are ',' as delimiters\n",
    "class_train = train[:,0]\n",
    "x_train = train[:,1:]\n",
    "N_train = train.shape[0]"
   ]
  },
  {
   "cell_type": "code",
   "execution_count": 252,
   "metadata": {},
   "outputs": [],
   "source": [
    "# load the test set\n",
    "test = np.loadtxt('synth_test.txt') \n",
    "class_test_1 = test[test[:,0]==1]\n",
    "class_test_2 = test[test[:,0]==2]\n",
    "x_test = test[:,1:]\n",
    "N_test = test.shape[0]"
   ]
  },
  {
   "cell_type": "markdown",
   "metadata": {},
   "source": [
    "### TO DO:\n",
    "    a. Display the training set and distinguish the two classes. The function scatter can be useful.\n",
    "    b. Implement the K-nearest neighbours algorithm for classification.\n",
    "    c. Compute the error rate on the training set and the test set for K = 1,...,30.\n",
    "    d. Comment on your results. Which value of K seems optimal ?\n",
    "\n",
    "_Indication 1:_ Python functions to sort, norm and replicate (see `tile()`) matrices may be useful to compute and sort distances to a given data point while limiting the number of loops 'for'.\n",
    "\n",
    "_Indication 2:_ if class_pred contains the predicted labels for N_test samples, one can display classification results by using:"
   ]
  },
  {
   "cell_type": "code",
   "execution_count": 242,
   "metadata": {},
   "outputs": [],
   "source": [
    "# Code a. Display the training set and distinguish the two classes. The function scatter can be useful."
   ]
  },
  {
   "cell_type": "code",
   "execution_count": 266,
   "metadata": {},
   "outputs": [
    {
     "data": {
      "image/png": "[encoded data removed]",
      "text/plain": [
       "<Figure size 432x288 with 1 Axes>"
      ]
     },
     "metadata": {},
     "output_type": "display_data"
    }
   ],
   "source": [
    "plt.figure()\n",
    "plt.plot(train[class_train==1,1],train[class_train==1,2],'ko')  # class 1 in black\n",
    "plt.plot(train[class_train==2,1],train[class_train==2,2],'mo')  # class 2 in magenta\n",
    "plt.show()\n",
    "\n",
    "# plt.plot(test[class_pred==1,1],test[class_pred==1,2],'rs')  # red = predicted class = 1\n",
    "# plt.plot(test[class_pred==2,1],test[class_pred==1,2],'gs')  # green = predicted class = 2"
   ]
  },
  {
   "cell_type": "markdown",
   "metadata": {},
   "source": [
    "where `class_pred` contains the class predicted by your K-NN algorithm (TO DO !)."
   ]
  },
  {
   "cell_type": "code",
   "execution_count": null,
   "metadata": {},
   "outputs": [],
   "source": []
  },
  {
   "cell_type": "code",
   "execution_count": 267,
   "metadata": {},
   "outputs": [],
   "source": [
    "# b. Implement the K-nearest neighbours algorithm for classification.\n",
    "def knn_algo (K) :\n",
    "    \n",
    "\n",
    "# Calcul de la matrice distances_square (N_test, N_train) : distances[i,j] donne la distance entre le point i du training set et\n",
    "# le point j du test set\n",
    "    tile_x_test = np.tile(x_test[:,0],(N_train,1))\n",
    "    tile_y_test = np.tile(x_test[:,1],(N_train,1))\n",
    "\n",
    "    tile_x_train = np.transpose(np.tile(x_train[:,0],(N_test,1)))\n",
    "    tile_y_train = np.transpose(np.tile(x_train[:,1],(N_test,1)))\n",
    "\n",
    "    diff_x_square = np.square(tile_x_test - tile_x_train)\n",
    "    diff_y_square = np.square(tile_y_test - tile_y_train)\n",
    "\n",
    "    distances_square = diff_x_square + diff_y_square\n",
    "    #print(\"distance square\", distances_square.shape)\n",
    "    \n",
    "    \n",
    "    ind_sort = np.argsort(distances_square,axis=0) #tableau d'indices du training set ordonnés (ordre croissant des distances)\n",
    "\n",
    "    knearest = ind_sort[:K,:] # la iè colonne de knearest donne les indices des k plus proches voisins du iè point du test set\n",
    "\n",
    "# knearest_class : array avec les classes correspondant aux indices de knearest\n",
    "    knearest_class = np.zeros(knearest.shape)\n",
    "\n",
    "# count_class_1 : vecteur qui contient pour le test point i, le nombre de classes 1 parmi les knearest\n",
    "    count_class_1 = np.zeros(N_test)\n",
    "\n",
    "# predic_class : vecteur qui contient la classe prédite pour le point i du test set\n",
    "    predic_class = np.zeros(N_test)\n",
    "    for i in range(N_test):\n",
    "        knearest_class[:,i] = class_train[knearest[:,i]]\n",
    "        count_class_1 [i]= np.sum (knearest_class[:,i]==1)\n",
    "        if (count_class_1[i] >= np.ceil(K/2) ):\n",
    "            predic_class[i] = 1\n",
    "        else:\n",
    "            predic_class[i] = 2 # si K est pair et qu'il y a autant de classes 1 que classes 2, on prédira 2\n",
    "    \n",
    "\n",
    "    accuracy = np.sum(test[:,0] == predic_class)/N_test \n",
    "    error_rate = (1 - accuracy)*100\n",
    "    \n",
    "    return error_rate, predic_class\n"
   ]
  },
  {
   "cell_type": "code",
   "execution_count": 268,
   "metadata": {},
   "outputs": [
    {
     "name": "stdout",
     "output_type": "stream",
     "text": [
      "Error rate for K =  1 is 6.499999999999995 %\n",
      "Error rate for K =  2 is 6.000000000000005 %\n",
      "Error rate for K =  3 is 4.5000000000000036 %\n",
      "Error rate for K =  4 is 5.000000000000004 %\n",
      "Error rate for K =  5 is 6.000000000000005 %\n",
      "Error rate for K =  6 is 5.500000000000005 %\n",
      "Error rate for K =  7 is 6.999999999999995 %\n",
      "Error rate for K =  8 is 6.999999999999995 %\n",
      "Error rate for K =  9 is 7.499999999999996 %\n",
      "Error rate for K =  10 is 7.499999999999996 %\n",
      "Error rate for K =  11 is 8.999999999999996 %\n",
      "Error rate for K =  12 is 7.499999999999996 %\n",
      "Error rate for K =  13 is 7.9999999999999964 %\n",
      "Error rate for K =  14 is 7.499999999999996 %\n",
      "Error rate for K =  15 is 7.499999999999996 %\n",
      "Error rate for K =  16 is 7.499999999999996 %\n",
      "Error rate for K =  17 is 7.9999999999999964 %\n",
      "Error rate for K =  18 is 7.9999999999999964 %\n",
      "Error rate for K =  19 is 7.9999999999999964 %\n",
      "Error rate for K =  20 is 7.9999999999999964 %\n",
      "Error rate for K =  21 is 9.999999999999998 %\n",
      "Error rate for K =  22 is 9.999999999999998 %\n",
      "Error rate for K =  23 is 12.0 %\n",
      "Error rate for K =  24 is 11.5 %\n",
      "Error rate for K =  25 is 13.0 %\n",
      "Error rate for K =  26 is 13.0 %\n",
      "Error rate for K =  27 is 14.500000000000002 %\n",
      "Error rate for K =  28 is 14.000000000000002 %\n",
      "Error rate for K =  29 is 15.500000000000004 %\n",
      "Error rate for K =  30 is 15.500000000000004 %\n"
     ]
    },
    {
     "data": {
      "image/png": "[encoded data removed]",
      "text/plain": [
       "<Figure size 432x288 with 1 Axes>"
      ]
     },
     "metadata": {},
     "output_type": "display_data"
    }
   ],
   "source": [
    "# c. Compute the error rate on the training set and the test set for K = 1,...,30.\n",
    "nb_test = 30\n",
    "error_rate = np.zeros(nb_test)\n",
    "for K in range (1,nb_test + 1):\n",
    "    error_rate[K-1],_ = knn_algo(K)\n",
    "    print(\"Error rate for K = \",K, \"is\", error_rate[K-1], \"%\" )\n",
    "\n",
    "plt.plot(np.arange(1,31),error_rate)\n",
    "plt.title(\"Error rate en fonction de K\")\n",
    "plt.grid()"
   ]
  },
  {
   "cell_type": "code",
   "execution_count": 269,
   "metadata": {},
   "outputs": [
    {
     "data": {
      "image/png": "[encoded data removed]",
      "text/plain": [
       "<Figure size 1440x720 with 2 Axes>"
      ]
     },
     "metadata": {},
     "output_type": "display_data"
    },
    {
     "data": {
      "text/plain": [
       "<Figure size 432x288 with 0 Axes>"
      ]
     },
     "metadata": {},
     "output_type": "display_data"
    }
   ],
   "source": [
    "plt.subplots(figsize=(20,10))\n",
    "plt.subplot(2,1,1)\n",
    "K=3\n",
    "\n",
    "_,predic_class = knn_algo (K)\n",
    "plt.plot(train[class_train==1,1],train[class_train==1,2],'ko')  # class 1 in black\n",
    "plt.plot(train[class_train==2,1],train[class_train==2,2],'mo')  # class 2 in magenta\n",
    "plt.plot(test[predic_class==1,1],test[predic_class==1,2],'gs')  # en carré vert : classe 1 prédite du test set\n",
    "plt.plot(test[predic_class==2,1],test[predic_class==2,2],'rs')  # en carré rouge : classe 2 prédite du test set \n",
    "plt.title (\"K=3\")\n",
    "\n",
    "\n",
    "\n",
    "K=50\n",
    "plt.subplot(2,1,2)\n",
    "_,predic_class = knn_algo (K)\n",
    "plt.plot(train[class_train==1,1],train[class_train==1,2],'ko')  # class 1 in black\n",
    "plt.plot(train[class_train==2,1],train[class_train==2,2],'mo')  # class 2 in magenta\n",
    "plt.plot(test[predic_class==1,1],test[predic_class==1,2],'gs')  # en carré vert : classe 1 prédite du test set\n",
    "plt.plot(test[predic_class==2,1],test[predic_class==2,2],'rs')  # en carré rouge : classe 2 prédite du test set \n",
    "plt.title (\"K=50\")\n",
    "\n",
    "plt.show()\n",
    "plt.tight_layout()\n",
    "\n",
    "#Remarque : il y a plus de rouges prédits s'il y a autant de classe 1 que de classe 2 dans les voisins (cf le else \n",
    "# dans knn_algo)"
   ]
  },
  {
   "cell_type": "markdown",
   "metadata": {
    "collapsed": true
   },
   "source": [
    "1. d. Comment on your results. Which value of K seems optimal ? \n"
   ]
  },
  {
   "cell_type": "markdown",
   "metadata": {},
   "source": [
    "La valeur K optimale est K=3.\n",
    "Si on prend trop peu de voisins, par exemple K = 1, on ne regarde qu'un voisin, et si on se trouve sur la frontière, on a presque autant de chance d'observer le bon voisin que le mauvais voisin.\n",
    "Si on prend trop de voisins, par exemple K = 30, on a une mauvaise précision. En effet, le training set n'est constitué que de 100 exemples, si on prend un tiers du training set pour prédire la classe d'un point, ce n'est pas très précis..."
   ]
  },
  {
   "cell_type": "markdown",
   "metadata": {},
   "source": [
    "### 2. Application to a real data set : Breast cancer Wisconsin.\n",
    "\n",
    "** TO DO: Apply the K-NN classifier to the provided set wdbc12.data.txt.**\n",
    "\n",
    "Information about the data is provided in `wdbc12.names.txt`."
   ]
  },
  {
   "cell_type": "code",
   "execution_count": 320,
   "metadata": {},
   "outputs": [
    {
     "name": "stdout",
     "output_type": "stream",
     "text": [
      "Taille des données : (nombre d'exemples, nombre de features+2) (569, 32)\n",
      "Nombre de malades ie de classe 1 :  212\n",
      "Nombre de bénins ie de classe 2 :  357\n"
     ]
    },
    {
     "data": {
      "image/png": "[encoded data removed]",
      "text/plain": [
       "<Figure size 432x288 with 1 Axes>"
      ]
     },
     "metadata": {},
     "output_type": "display_data"
    }
   ],
   "source": [
    "data = np.loadtxt('wdbc12.data.txt',delimiter = ',') \n",
    "\n",
    "## Exploration des data\n",
    "print(\"Taille des données : (nombre d'exemples, nombre de features+2)\", data.shape)\n",
    "print(\"Nombre de malades ie de classe 1 : \", np.sum(data[:,1]==1)) \n",
    "print(\"Nombre de bénins ie de classe 2 : \", np.sum(data[:,1]==2)) \n",
    "# Remarque : la première colonne, ID du client, ne sert à rien ici\n",
    "\n",
    "## Visualisation des données brutes (2 premiers features)\n",
    "plt.figure()\n",
    "plt.plot(data[data[:,1]==1,2],data[data[:,1]==1,3],'ko')  # class 1 in black\n",
    "plt.plot(data[data[:,1]==2,2],data[data[:,1]==2,3],'mo')  # class 2 in magenta\n",
    "plt.show()\n"
   ]
  },
  {
   "cell_type": "code",
   "execution_count": null,
   "metadata": {},
   "outputs": [],
   "source": []
  },
  {
   "cell_type": "code",
   "execution_count": 321,
   "metadata": {},
   "outputs": [
    {
     "name": "stdout",
     "output_type": "stream",
     "text": [
      "Vérification que la moyenne de chaque feature est environ = 0 : \n",
      " [-3.16286735e-15 -6.53060890e-15 -7.07889127e-16 -8.79983452e-16\n",
      "  6.13217737e-15 -1.12036918e-15 -4.42138027e-16  9.73249991e-16\n",
      " -1.97167024e-15 -1.45363120e-15 -9.07641468e-16 -8.85349205e-16\n",
      "  1.77367396e-15 -8.29155139e-16 -7.54180940e-16 -3.92187747e-16\n",
      "  7.91789988e-16 -2.73946068e-16 -3.10823423e-16 -3.36676596e-16\n",
      " -2.33322442e-15  1.76367415e-15 -1.19802625e-15  5.04966114e-16\n",
      " -5.21317026e-15 -2.17478837e-15  6.85645643e-16 -1.41265636e-16\n",
      " -2.28956670e-15  2.57517109e-15]\n",
      "Vérification que l'écart-type de chaque feature = 1 : \n",
      " [1. 1. 1. 1. 1. 1. 1. 1. 1. 1. 1. 1. 1. 1. 1. 1. 1. 1. 1. 1. 1. 1. 1. 1.\n",
      " 1. 1. 1. 1. 1. 1.]\n"
     ]
    },
    {
     "data": {
      "image/png": "[encoded data removed]",
      "text/plain": [
       "<Figure size 432x288 with 1 Axes>"
      ]
     },
     "metadata": {},
     "output_type": "display_data"
    }
   ],
   "source": [
    "### Data normalization\n",
    "\n",
    "def normalize_data(raw_data):\n",
    "    \"\"\"\n",
    "        Function which normalize the data\n",
    "        parameters:\n",
    "        - raw_data : matrix of data (N,M), the first two columns correspond to ID and classes, the next columns correspond \n",
    "        to the features (of course, we only normalize the features). N rows correspond to N examples\n",
    "        \n",
    "        returns:\n",
    "        - normalize_data : raw_data normalized\n",
    "        - mean_vector : vector of M-2 elements, mean of the features\n",
    "        - std_vector : vector of M-2 elements, standard deviation of the features\n",
    "        \n",
    "    \"\"\"\n",
    "    data_shape = raw_data.shape\n",
    "    mean_vector  = np.mean (raw_data[:,2:],axis=0) # mean_vector[i] : moyenne de la colonne du feature i\n",
    "    std_vector  = np.std (raw_data [:,2:],axis=0)  # std_vector[i] : écart-type de la colonne du feature i\n",
    "    \n",
    "    normalized_data = raw_data\n",
    "    normalized_data[:,2:] = (raw_data[:,2:]-mean_vector)/std_vector\n",
    "    return(normalized_data,mean_vector,std_vector)\n",
    "\n",
    "norm_data,_,_ = normalize_data(data)\n",
    "\n",
    "## Vérification\n",
    "print(\"Vérification que la moyenne de chaque feature est environ = 0 : \\n\", np.mean(norm_data[:,2:],axis=0))\n",
    "print(\"Vérification que l'écart-type de chaque feature = 1 : \\n\",np.std(norm_data[:,2:],axis=0))\n",
    "\n",
    "## Visualisation des données normalisées (2 premiers features)\n",
    "plt.figure()\n",
    "plt.plot(norm_data[norm_data[:,1]==1,2],norm_data[norm_data[:,1]==1,3],'ko')  # class 1 in black\n",
    "plt.plot(norm_data[norm_data[:,1]==2,2],norm_data[norm_data[:,1]==2,3],'mo')  # class 2 in magenta\n",
    "plt.show()\n"
   ]
  },
  {
   "cell_type": "code",
   "execution_count": 322,
   "metadata": {},
   "outputs": [],
   "source": [
    "### Séparation test et training set\n",
    "def split_data (data,nb_train):\n",
    "    \"\"\"\n",
    "        Function which splits the data into a test_set and a training set\n",
    "        parameters :\n",
    "        - data : matrix of data to split\n",
    "        - nb_train : number of training examples we want to keep\n",
    "        \n",
    "        returns :\n",
    "        - train_set : matrix of training data\n",
    "        - test_set : matrix of test data\n",
    "        - N_test : number of elements of the test set\n",
    "    \"\"\"\n",
    "    np.random.shuffle(data) # mélange des exemples \n",
    "    train_set = data[:nb_train,:]\n",
    "    test_set = data[nb_train:,:]\n",
    "    N_test = test_set.shape[0]\n",
    "    return(train_set,test_set,N_test)\n",
    "\n"
   ]
  },
  {
   "cell_type": "code",
   "execution_count": 331,
   "metadata": {},
   "outputs": [],
   "source": [
    "def knn_algo_deux (K,train_set,test_set):\n",
    "    \"\"\"\n",
    "        Function which operates knn algorithm.\n",
    "        parameters:\n",
    "        - K : number of k nearest neighbours wanted\n",
    "        - train_set : (N_train,M+2) training data, N_train examples, M features, 1st column is ID, 2nd column is class\n",
    "        - test_set : (N_test,M+2) test data\n",
    "        \n",
    "        returns : \n",
    "        - error_rate : Percentage of error\n",
    "        - predic_class : vector of N_test elements, which give the predicted class of the test points.\n",
    "    \"\"\"\n",
    "    \n",
    "    \n",
    "    ## Matrices, valeurs utiles\n",
    "    N_train = train_set.shape[0]\n",
    "    N_test = test_set.shape[0]\n",
    "    train_features = train_set [:,2:] # matrice de features du training set (N_train x nb_features)\n",
    "    test_features = test_set [:,2:] # matrice de features du test set (N_test x nb_features)\n",
    "    class_train = train_set[:,1] # vecteur qui donne les classes(1 ou 2) du training set\n",
    "    class_test = test_set[:,1] # vecteur qui donne les classes (1 ou 2) du test set\n",
    "    \n",
    "    \n",
    "    ## Calcul matrice distances_square :\n",
    "    train_features_transpose = np.transpose(train_features)\n",
    "    test_features_transpose = np.transpose(test_features)\n",
    "    tile_train_features  = np.tile(train_features_transpose[:,:,np.newaxis],(1,1,N_test))\n",
    "    tile_test_features = np.tile(test_features_transpose[:,np.newaxis,:],(1,N_train,1))\n",
    "\n",
    "    \n",
    "    matrice_square = np.square(tile_test_features-tile_train_features) \n",
    "    # matrice_square[i,j,k] donne (x_ij-y_ik)², où x_ij est le feature i du jiè exemple du training set, y_ik du test set\n",
    "\n",
    "    distances_square = np.sum(matrice_square,axis=0)\n",
    "    # distances_square[i,j] donne la distance au carrée entre le iè exemple du training set et le jè point du test set\n",
    "    \n",
    "\n",
    "    \n",
    "    ## Calcul matrice knearest : donne les indices des k plus proches voisins \n",
    "    ind_sort = np.argsort(distances_square,axis=0) \n",
    "    # ind_sort : tableau d'indices du training set ordonnés (ordre croissant des distances)\n",
    "    knearest = ind_sort[:K,:]    \n",
    "    \n",
    "    \n",
    "    ## Compute predic_class : vecteur qui contient la classe prédite pour chaque point i du test set\n",
    "    knearest_class = np.zeros(knearest.shape) \n",
    "    # init knearest_class : array avec les classes correspondant aux indices de knearest (ses éléments sont 1 ou 2)\n",
    "    \n",
    "    count_class_1 = np.zeros(N_test)\n",
    "    # init count_class_1 : vecteur qui compte le nombre de classes 1 parmi les knearest de i\n",
    "\n",
    "    predic_class = np.zeros(N_test)\n",
    "    \n",
    "    \n",
    "    for i in range(N_test):\n",
    "        knearest_class[:,i] = class_train[knearest[:,i]]\n",
    "        count_class_1 [i] = np.sum (knearest_class[:,i]==1)\n",
    "        if (count_class_1[i] >= np.ceil(K/2) ):\n",
    "            predic_class[i] = 1\n",
    "        else:\n",
    "            predic_class[i] = 2 # si K est pair et qu'il y a autant de classes 1 que classes 2, on prédira 2\n",
    "    \n",
    "\n",
    "    accuracy = np.sum(class_test == predic_class)/N_test \n",
    "    error_rate = (1 - accuracy)*100  # en pourcentage\n",
    "    return error_rate, predic_class\n"
   ]
  },
  {
   "cell_type": "code",
   "execution_count": null,
   "metadata": {},
   "outputs": [
    {
     "name": "stdout",
     "output_type": "stream",
     "text": [
      "Nombre d'examples du training set :  100\n",
      "Nombre d'examples du test set :  469\n",
      "Error rate for K =  10 is 5.117270788912576 %\n",
      "Error rate for K =  20 is 7.462686567164178 %\n",
      "Error rate for K =  30 is 8.315565031982942 %\n",
      "Error rate for K =  40 is 10.234541577825162 %\n",
      "Error rate for K =  50 is 14.925373134328357 %\n",
      "Nombre d'examples du training set :  300\n",
      "Nombre d'examples du test set :  269\n",
      "Error rate for K =  10 is 2.9739776951672847 %\n",
      "Error rate for K =  20 is 3.7174721189591087 %\n",
      "Error rate for K =  30 is 5.2044609665427455 %\n",
      "Error rate for K =  40 is 5.2044609665427455 %\n",
      "Error rate for K =  50 is 4.832713754646845 %\n",
      "Nombre d'examples du training set :  400\n",
      "Nombre d'examples du test set :  169\n"
     ]
    }
   ],
   "source": [
    "### Test with various training set\n",
    "\n",
    "####\n",
    "N_train = 100\n",
    "train_set,test_set,N_test = split_data(norm_data,N_train)\n",
    "print(\"Nombre d'examples du training set : \",N_train)\n",
    "print(\"Nombre d'examples du test set : \", N_test)\n",
    "\n",
    "nb_test = 50\n",
    "error_rate = np.zeros(nb_test)\n",
    "for K in range (1,nb_test + 1):\n",
    "    error_rate[K-1],_ = knn_algo_deux(K,train_set,test_set)\n",
    "    if K%10 == 0:\n",
    "        print(\"Error rate for K = \",K, \"is\",error_rate[K-1], \"%\" )\n",
    "\n",
    "plt.plot(np.arange(1,nb_test+1),error_rate,'go')\n",
    "plt.title(\"Error rate en fonction de K, pour N_train = \" + str(N_train))\n",
    "plt.grid()\n",
    "###\n",
    "\n",
    "\n",
    "####\n",
    "N_train = 300\n",
    "train_set,test_set,N_test = split_data(norm_data,N_train)\n",
    "print(\"Nombre d'examples du training set : \",N_train)\n",
    "print(\"Nombre d'examples du test set : \", N_test)\n",
    "\n",
    "nb_test = 50\n",
    "error_rate = np.zeros(nb_test)\n",
    "for K in range (1,nb_test + 1):\n",
    "    error_rate[K-1],_ = knn_algo_deux(K,train_set,test_set)\n",
    "    if K%10 == 0:\n",
    "        print(\"Error rate for K = \",K, \"is\",error_rate[K-1], \"%\" )\n",
    "\n",
    "plt.plot(np.arange(1,nb_test+1),error_rate,'ro')\n",
    "plt.title(\"Error rate en fonction de K\")\n",
    "plt.grid()\n",
    "###\n",
    "\n",
    "\n",
    "####\n",
    "N_train = 400\n",
    "train_set,test_set,N_test = split_data(norm_data,N_train)\n",
    "print(\"Nombre d'examples du training set : \",N_train)\n",
    "print(\"Nombre d'examples du test set : \", N_test)\n",
    "\n",
    "nb_test = 50\n",
    "error_rate = np.zeros(nb_test)\n",
    "for K in range (1,nb_test + 1):\n",
    "    error_rate[K-1],_ = knn_algo_deux(K,train_set,test_set)\n",
    "    if K%10 == 0:\n",
    "        print(\"Error rate for K = \",K, \"is\",error_rate[K-1], \"%\" )\n",
    "\n",
    "plt.plot(np.arange(1,nb_test+1),error_rate,'bo')\n",
    "plt.title(\"Error rate en fonction de K\")\n",
    "plt.grid()\n",
    "###"
   ]
  },
  {
   "cell_type": "markdown",
   "metadata": {},
   "source": [
    "### 3. Making K-NN faster using `cython`\n",
    "\n",
    "Cython is a package that permits to interface C code with Python easily. It may be useful to make your code faster for a small coding effort, in particular when using long loops.\n",
    "\n",
    "See <http://docs.cython.org/en/latest/src/tutorial/cython_tutorial.html> for more details.\n",
    "\n",
    "_Indication : an example is given in the notebook_ **`cython_example.ipy`**.\n",
    "\n",
    "** TO DO (subsidiary):** Here you may use it to implement a faster version of K-NN."
   ]
  },
  {
   "cell_type": "markdown",
   "metadata": {
    "collapsed": true
   },
   "source": [
    "### ALERT for Windows'users\n",
    "**Cython does not work properly if some precautions are not taken into account !**\n",
    "\n",
    "See <https://github.com/cython/cython/wiki/CythonExtensionsOnWindows>  for detailed explanations."
   ]
  },
  {
   "cell_type": "code",
   "execution_count": 23,
   "metadata": {},
   "outputs": [
    {
     "name": "stdout",
     "output_type": "stream",
     "text": [
      "[ 0.   0.1  0.2  0.3  0.4 -0.5 -0.4 -0.3 -0.2 -0.1]\n",
      "[-0.5 -0.4 -0.3 -0.2 -0.1  0.   0.1  0.2  0.3  0.4]\n"
     ]
    }
   ],
   "source": []
  },
  {
   "cell_type": "code",
   "execution_count": null,
   "metadata": {},
   "outputs": [],
   "source": []
  }
 ],
 "metadata": {
  "kernelspec": {
   "display_name": "Python 3",
   "language": "python",
   "name": "python3"
  },
  "language_info": {
   "codemirror_mode": {
    "name": "ipython",
    "version": 3
   },
   "file_extension": ".py",
   "mimetype": "text/x-python",
   "name": "python",
   "nbconvert_exporter": "python",
   "pygments_lexer": "ipython3",
   "version": "3.6.5"
  }
 },
 "nbformat": 4,
 "nbformat_minor": 2
}
