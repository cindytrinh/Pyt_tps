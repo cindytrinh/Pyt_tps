{
 "cells": [
  {
   "cell_type": "markdown",
   "metadata": {},
   "source": [
    "# TP4 : K-nearest neighbours & cython"
   ]
  },
  {
   "cell_type": "markdown",
   "metadata": {},
   "source": [
    "## A. Useful iterable objects: _range_, _enumerate_ , _zip_, dictionaries...\n",
    "When using loops, _iterators_ can take various forms. When using a simple number, _range()_ is fine as in:"
   ]
  },
  {
   "cell_type": "code",
   "execution_count": 2,
   "metadata": {},
   "outputs": [],
   "source": [
    "import matplotlib.pyplot as plt\n",
    "import numpy as np\n",
    "\n",
    "%matplotlib notebook"
   ]
  },
  {
   "cell_type": "code",
   "execution_count": 2,
   "metadata": {},
   "outputs": [
    {
     "name": "stdout",
     "output_type": "stream",
     "text": [
      "0\n",
      "1\n",
      "2\n",
      "3\n",
      "4\n"
     ]
    }
   ],
   "source": [
    "for i in range(5):\n",
    "    print(i)"
   ]
  },
  {
   "cell_type": "markdown",
   "metadata": {},
   "source": [
    "_range()_ is **iterable**, not building an explicit list in the memory. \n",
    "You may also use simple lists as in:"
   ]
  },
  {
   "cell_type": "code",
   "execution_count": 3,
   "metadata": {},
   "outputs": [
    {
     "name": "stdout",
     "output_type": "stream",
     "text": [
      "cat 3\n",
      "window 6\n",
      "defenestrate 12\n"
     ]
    }
   ],
   "source": [
    "words = ['cat', 'window', 'defenestrate']\n",
    "for w in words:\n",
    "    print(w, len(w))"
   ]
  },
  {
   "cell_type": "markdown",
   "metadata": {},
   "source": [
    "If you want to use both the element of a list and its index inthis list, **enumerate()** might be useful.\n",
    "Go to <https://docs.python.org/3.6/library/functions.html#enumerate> for more information."
   ]
  },
  {
   "cell_type": "code",
   "execution_count": 4,
   "metadata": {},
   "outputs": [
    {
     "name": "stdout",
     "output_type": "stream",
     "text": [
      "0 tic\n",
      "1 tac\n",
      "2 toe\n"
     ]
    }
   ],
   "source": [
    "for i, v in enumerate(['tic', 'tac', 'toe']):\n",
    "    print(i, v)"
   ]
  },
  {
   "cell_type": "markdown",
   "metadata": {},
   "source": [
    "When looping through **dictionaries**, the key and corresponding value can be retrieved at the same time using the items() method."
   ]
  },
  {
   "cell_type": "code",
   "execution_count": 5,
   "metadata": {},
   "outputs": [
    {
     "name": "stdout",
     "output_type": "stream",
     "text": [
      "gallahad the pure\n",
      "robin the brave\n"
     ]
    }
   ],
   "source": [
    "knights = {'gallahad': 'the pure', 'robin': 'the brave'}\n",
    "for k, v in knights.items():\n",
    "    print(k, v)"
   ]
  },
  {
   "cell_type": "markdown",
   "metadata": {},
   "source": [
    "\n",
    "\n",
    "To loop over two or more sequences at the same time, the entries can be paired with the **zip()** function."
   ]
  },
  {
   "cell_type": "code",
   "execution_count": 6,
   "metadata": {},
   "outputs": [
    {
     "name": "stdout",
     "output_type": "stream",
     "text": [
      "What is your name?  It is lancelot.\n",
      "What is your quest?  It is the holy grail.\n",
      "What is your favorite color?  It is blue.\n"
     ]
    }
   ],
   "source": [
    "questions = ['name', 'quest', 'favorite color']\n",
    "answers = ['lancelot', 'the holy grail', 'blue']\n",
    "for q, a in zip(questions, answers):\n",
    "    print('What is your {0}?  It is {1}.'.format(q, a))"
   ]
  },
  {
   "cell_type": "markdown",
   "metadata": {},
   "source": [
    "Note in passing how the final string has been obtained using _.format(q,a)_."
   ]
  },
  {
   "cell_type": "markdown",
   "metadata": {},
   "source": [
    "Go to <https://docs.python.org/3.6/tutorial/datastructures.html#tut-loopidioms> for more details on loops."
   ]
  },
  {
   "cell_type": "markdown",
   "metadata": {},
   "source": [
    "## B. Classification using the K-nearest neighbours algorithm"
   ]
  },
  {
   "cell_type": "markdown",
   "metadata": {},
   "source": [
    "This practical is a first introduction to classification using the most intuitive non parametric method : K nearest neighbours. The principle is the following. A set of labelled observations which can belong to 2 classes is given as a learning set. Then new observations must be classified as either of class 1 or 2. The principle of K-NN is to label a new observation from the most frequent label among its K nearest neighbours."
   ]
  },
  {
   "cell_type": "markdown",
   "metadata": {},
   "source": [
    "### 1. Using synthetic data\n",
    "Load the training and test data sets synth_train.txt and synth_test.txt. Targets belong to {1,2} and entries belong to $\\mathbb{R}^2$. We have 100 training data samples and 200 test samples.\n",
    "    * the 1st column contains the label of the class the sample,\n",
    "    * columns 2 & 3 contain the coordinates of each sample in 2D.\n"
   ]
  },
  {
   "cell_type": "code",
   "execution_count": 4,
   "metadata": {},
   "outputs": [
    {
     "name": "stdout",
     "output_type": "stream",
     "text": [
      "100\n"
     ]
    }
   ],
   "source": [
    "# load the training set\n",
    "train = np.loadtxt('synth_train.txt')  #...,delimiter=',') if there are ',' as delimiters\n",
    "class_train = train[:,0]\n",
    "x_train = train[:,1:]\n",
    "N_train = train.shape[0]\n",
    "print(N_train)"
   ]
  },
  {
   "cell_type": "code",
   "execution_count": 31,
   "metadata": {},
   "outputs": [
    {
     "name": "stdout",
     "output_type": "stream",
     "text": [
      "[2. 2. 2. 2. 1. 2. 2. 1. 2. 2. 2. 2. 2. 2. 1. 2. 2. 2. 2. 2. 2. 2. 2. 2.\n",
      " 2. 2. 2. 2. 2. 2. 2. 1. 1. 2. 1. 2. 2. 2. 2. 2. 2. 2. 2. 2. 2. 2. 1. 2.\n",
      " 2. 2. 2. 2. 1. 2. 2. 1. 2. 1. 2. 2. 2. 2. 2. 2. 2. 1. 2. 2. 1. 1. 2. 2.\n",
      " 2. 2. 2. 2. 2. 2. 2. 2. 1. 1. 2. 1. 2. 2. 2. 2. 2. 2. 2. 2. 2. 2. 1. 1.\n",
      " 1. 1. 1. 1.]\n"
     ]
    }
   ],
   "source": [
    "# load the test set\n",
    "test = np.loadtxt('synth_test.txt') \n",
    "class_test_1 = test[test[:,0]==1]\n",
    "class_test_2 = test[test[:,0]==2]\n",
    "x_test = test[:,1:]\n",
    "N_test = test.shape[0]\n",
    "print(class_train)"
   ]
  },
  {
   "cell_type": "markdown",
   "metadata": {},
   "source": [
    "### TO DO:\n",
    "    a. Display the training set and distinguish the two classes. The function scatter can be useful.\n",
    "    b. Implement the K-nearest neighbours algorithm for classification.\n",
    "    c. Compute the error rate on the training set and the test set for K = 1,...,30.\n",
    "    d. Comment on your results. Which value of K seems optimal ?\n",
    "\n",
    "_Indication 1:_ Python functions to sort, norm and replicate (see `tile()`) matrices may be useful to compute and sort distances to a given data point while limiting the number of loops 'for'.\n",
    "\n",
    "_Indication 2:_ if class_pred contains the predicted labels for N_test samples, one can display classification results by using:"
   ]
  },
  {
   "cell_type": "code",
   "execution_count": 6,
   "metadata": {},
   "outputs": [],
   "source": [
    "# Code a. Display the training set and distinguish the two classes. The function scatter can be useful."
   ]
  },
  {
   "cell_type": "code",
   "execution_count": 7,
   "metadata": {},
   "outputs": [
    {
     "data": {
      "image/png": "[encoded data removed]",
      "text/plain": [
       "<Figure size 432x288 with 1 Axes>"
      ]
     },
     "metadata": {},
     "output_type": "display_data"
    }
   ],
   "source": [
    "plt.figure()\n",
    "plt.plot(train[class_train==1,1],train[class_train==1,2],'ko')  # class 1 in black\n",
    "plt.plot(train[class_train==2,1],train[class_train==2,2],'mo')  # class 2 in magenta\n",
    "\n",
    "plt.show()\n",
    "\n",
    "# plt.plot(test[class_pred==1,1],test[class_pred==1,2],'rs')  # red = predicted class = 1\n",
    "# plt.plot(test[class_pred==2,1],test[class_pred==1,2],'gs')  # green = predicted class = 2"
   ]
  },
  {
   "cell_type": "markdown",
   "metadata": {},
   "source": [
    "where `class_pred` contains the class predicted by your K-NN algorithm (TO DO !)."
   ]
  },
  {
   "cell_type": "code",
   "execution_count": 56,
   "metadata": {},
   "outputs": [],
   "source": [
    "# Pre-processing (normalization)\n",
    "\n",
    "\n",
    "# b. Implement the K-nearest neighbours algorithm for classification.\n",
    "def knn_algo (K) :\n",
    "    \n",
    "\n",
    "# Calcul de la matrice distances_square (N_test, N_train) : distances[i,j] donne la distance entre le point i du training set et\n",
    "# le point j du test set\n",
    "    tile_x_test = np.tile(x_test[:,0],(N_train,1))\n",
    "    tile_y_test = np.tile(x_test[:,1],(N_train,1))\n",
    "\n",
    "    tile_x_train = np.transpose(np.tile(x_train[:,0],(N_test,1)))\n",
    "    tile_y_train = np.transpose(np.tile(x_train[:,1],(N_test,1)))\n",
    "\n",
    "    diff_x_square = np.square(tile_x_test - tile_x_train)\n",
    "    diff_y_square = np.square(tile_y_test - tile_y_train)\n",
    "\n",
    "    distances_square = diff_x_square + diff_y_square\n",
    "\n",
    "    \n",
    "    \n",
    "    ind_sort = np.argsort(distances_square,axis=0) #tableau d'indices du training set ordonnés (ordre croissant des distances)\n",
    "\n",
    "    knearest = ind_sort[:K,:] # la iè colonne de knearest donne les indices des k plus proches voisins du iè point du test set\n",
    "\n",
    "# knearest_class : array avec les classes correspondant aux indices de knearest\n",
    "    knearest_class = np.zeros(knearest.shape)\n",
    "\n",
    "# count_class_1 : vecteur qui contient pour le test point i, le nombre de classes 1 parmi les knearest\n",
    "    count_class_1 = np.zeros(N_test)\n",
    "\n",
    "# predic_class : vecteur qui contient la classe prédite pour le point i du test set\n",
    "    predic_class = np.zeros(N_test)\n",
    "    for i in range(N_test):\n",
    "        knearest_class[:,i] = class_train[knearest[:,i]]\n",
    "        count_class_1 [i]= np.sum (knearest_class[:,i]==1)\n",
    "        if (count_class_1[i] >= np.ceil(K/2) ):\n",
    "            predic_class[i] = 1\n",
    "        else:\n",
    "            predic_class[i] = 2 # si K est pair et qu'il y a autant de classes 1 que classes 2, on prédira 2\n",
    "    \n",
    "\n",
    "    accuracy = np.sum(test[:,0] == predic_class)/N_test \n",
    "    error_rate = (1 - accuracy)*100\n",
    "    return error_rate, predic_class\n",
    "\n",
    "#tile_x_train = np.tile(x_train.reshape(N_train*2), (N_test,1))\n",
    "#distances = np.square(tile_x_test - tile_x_train)\n",
    "#print(distances.shape)"
   ]
  },
  {
   "cell_type": "code",
   "execution_count": 59,
   "metadata": {},
   "outputs": [
    {
     "name": "stdout",
     "output_type": "stream",
     "text": [
      "Error rate for K =  1 is 6.499999999999995 %\n",
      "Error rate for K =  2 is 6.000000000000005 %\n",
      "Error rate for K =  3 is 4.5000000000000036 %\n",
      "Error rate for K =  4 is 5.000000000000004 %\n",
      "Error rate for K =  5 is 6.000000000000005 %\n",
      "Error rate for K =  6 is 5.500000000000005 %\n",
      "Error rate for K =  7 is 6.999999999999995 %\n",
      "Error rate for K =  8 is 6.999999999999995 %\n",
      "Error rate for K =  9 is 7.499999999999996 %\n",
      "Error rate for K =  10 is 7.499999999999996 %\n",
      "Error rate for K =  11 is 8.999999999999996 %\n",
      "Error rate for K =  12 is 7.499999999999996 %\n",
      "Error rate for K =  13 is 7.9999999999999964 %\n",
      "Error rate for K =  14 is 7.499999999999996 %\n",
      "Error rate for K =  15 is 7.499999999999996 %\n",
      "Error rate for K =  16 is 7.499999999999996 %\n",
      "Error rate for K =  17 is 7.9999999999999964 %\n",
      "Error rate for K =  18 is 7.9999999999999964 %\n",
      "Error rate for K =  19 is 7.9999999999999964 %\n",
      "Error rate for K =  20 is 7.9999999999999964 %\n",
      "Error rate for K =  21 is 9.999999999999998 %\n",
      "Error rate for K =  22 is 9.999999999999998 %\n",
      "Error rate for K =  23 is 12.0 %\n",
      "Error rate for K =  24 is 11.5 %\n",
      "Error rate for K =  25 is 13.0 %\n",
      "Error rate for K =  26 is 13.0 %\n",
      "Error rate for K =  27 is 14.500000000000002 %\n",
      "Error rate for K =  28 is 14.000000000000002 %\n",
      "Error rate for K =  29 is 15.500000000000004 %\n",
      "Error rate for K =  30 is 15.500000000000004 %\n"
     ]
    }
   ],
   "source": [
    "# c. Compute the error rate on the training set and the test set for K = 1,...,30.\n",
    "for K in range (1,31):\n",
    "    error_rate,_ = knn_algo(K)\n",
    "    print(\"Error rate for K = \",K, \"is\", error_rate, \"%\" )"
   ]
  },
  {
   "cell_type": "code",
   "execution_count": 85,
   "metadata": {},
   "outputs": [
    {
     "data": {
      "image/png": "[encoded data removed]",
      "text/plain": [
       "<Figure size 1440x720 with 2 Axes>"
      ]
     },
     "metadata": {},
     "output_type": "display_data"
    },
    {
     "data": {
      "text/plain": [
       "<Figure size 432x288 with 0 Axes>"
      ]
     },
     "metadata": {},
     "output_type": "display_data"
    }
   ],
   "source": [
    "plt.subplots(figsize=(20,10))\n",
    "plt.subplot(2,1,1)\n",
    "K=3\n",
    "\n",
    "_,predic_class = knn_algo (K)\n",
    "plt.plot(train[class_train==1,1],train[class_train==1,2],'ko')  # class 1 in black\n",
    "plt.plot(train[class_train==2,1],train[class_train==2,2],'mo')  # class 2 in magenta\n",
    "plt.plot(test[predic_class==1,1],test[predic_class==1,2],'gs')  # en carré vert : classe 1 prédite du test set\n",
    "plt.plot(test[predic_class==2,1],test[predic_class==2,2],'rs')  # en carré rouge : classe 2 prédite du test set \n",
    "plt.title (\"K=3\")\n",
    "\n",
    "\n",
    "\n",
    "K=50\n",
    "plt.subplot(2,1,2)\n",
    "_,predic_class = knn_algo (K)\n",
    "plt.plot(train[class_train==1,1],train[class_train==1,2],'ko')  # class 1 in black\n",
    "plt.plot(train[class_train==2,1],train[class_train==2,2],'mo')  # class 2 in magenta\n",
    "plt.plot(test[predic_class==1,1],test[predic_class==1,2],'gs')  # en carré vert : classe 1 prédite du test set\n",
    "plt.plot(test[predic_class==2,1],test[predic_class==2,2],'rs')  # en carré rouge : classe 2 prédite du test set \n",
    "plt.title (\"K=50\")\n",
    "\n",
    "plt.show()\n",
    "plt.tight_layout()\n",
    "\n",
    "#Remarque : il y a plus de rouges prédits s'il y a autant de classe 1 que de classe 2 dans les voisins (cf le else \n",
    "# dans knn_algo)"
   ]
  },
  {
   "cell_type": "markdown",
   "metadata": {
    "collapsed": true
   },
   "source": [
    "1. d. Comment on your results. Which value of K seems optimal ? \n"
   ]
  },
  {
   "cell_type": "markdown",
   "metadata": {},
   "source": [
    "La valeur K optimale est K=3.\n",
    "Si on prend trop peu de voisins, par exemple K = 1, on ne regarde qu'un voisin, et si on se trouve sur la frontière, on a presque autant de chance d'observer le bon voisin que le mauvais voisin.\n",
    "Si on prend trop de voisins, par exemple K = 30, on a une mauvaise précision. En effet, le training set n'est constitué que de 100 exemples, si on prend un tiers du training set pour prédire la classe d'un point, ce n'est pas très précis..."
   ]
  },
  {
   "cell_type": "markdown",
   "metadata": {},
   "source": [
    "### 2. Application to a real data set : Breast cancer Wisconsin.\n",
    "\n",
    "** TO DO: Apply the K-NN classifier to the provided set wdbc12.data.txt.**\n",
    "\n",
    "Information about the data is provided in `wdbc12.names.txt`."
   ]
  },
  {
   "cell_type": "code",
   "execution_count": 117,
   "metadata": {},
   "outputs": [
    {
     "name": "stdout",
     "output_type": "stream",
     "text": [
      "(569, 32)\n",
      "[[8.42302e+05 1.00000e+00 1.79900e+01 1.03800e+01 1.22800e+02 1.00100e+03\n",
      "  1.18400e-01 2.77600e-01 3.00100e-01 1.47100e-01 2.41900e-01 7.87100e-02\n",
      "  1.09500e+00 9.05300e-01 8.58900e+00 1.53400e+02 6.39900e-03 4.90400e-02\n",
      "  5.37300e-02 1.58700e-02 3.00300e-02 6.19300e-03 2.53800e+01 1.73300e+01\n",
      "  1.84600e+02 2.01900e+03 1.62200e-01 6.65600e-01 7.11900e-01 2.65400e-01\n",
      "  4.60100e-01 1.18900e-01]\n",
      " [8.42517e+05 1.00000e+00 2.05700e+01 1.77700e+01 1.32900e+02 1.32600e+03\n",
      "  8.47400e-02 7.86400e-02 8.69000e-02 7.01700e-02 1.81200e-01 5.66700e-02\n",
      "  5.43500e-01 7.33900e-01 3.39800e+00 7.40800e+01 5.22500e-03 1.30800e-02\n",
      "  1.86000e-02 1.34000e-02 1.38900e-02 3.53200e-03 2.49900e+01 2.34100e+01\n",
      "  1.58800e+02 1.95600e+03 1.23800e-01 1.86600e-01 2.41600e-01 1.86000e-01\n",
      "  2.75000e-01 8.90200e-02]]\n",
      "212\n",
      "357\n"
     ]
    }
   ],
   "source": [
    "data = np.loadtxt('wdbc12.data.txt',delimiter = ',') \n",
    "print(data.shape)\n",
    "print(data[:2,:])\n",
    "print(np.sum(data[:,1]==1)) # nombre de malades class 1\n",
    "print(np.sum(data[:,1]==2)) # nombre bénin class 2\n",
    "# Remarque : la première colonne, ID du client, ne sert à rien pour nous"
   ]
  },
  {
   "cell_type": "code",
   "execution_count": 132,
   "metadata": {},
   "outputs": [
    {
     "name": "stdout",
     "output_type": "stream",
     "text": [
      "Vérification que la moyenne de chaque feature est environ = 0 : \n",
      " [-3.16286735e-15 -6.53060890e-15 -7.07889127e-16 -8.79983452e-16\n",
      "  6.13217737e-15 -1.12036918e-15 -4.42138027e-16  9.73249991e-16\n",
      " -1.97167024e-15 -1.45363120e-15 -9.07641468e-16 -8.85349205e-16\n",
      "  1.77367396e-15 -8.29155139e-16 -7.54180940e-16 -3.92187747e-16\n",
      "  7.91789988e-16 -2.73946068e-16 -3.10823423e-16 -3.36676596e-16\n",
      " -2.33322442e-15  1.76367415e-15 -1.19802625e-15  5.04966114e-16\n",
      " -5.21317026e-15 -2.17478837e-15  6.85645643e-16 -1.41265636e-16\n",
      " -2.28956670e-15  2.57517109e-15]\n",
      "Vérification que l'écart-type de chaque feature = 1 : \n",
      " [1. 1. 1. 1. 1. 1. 1. 1. 1. 1. 1. 1. 1. 1. 1. 1. 1. 1. 1. 1. 1. 1. 1. 1.\n",
      " 1. 1. 1. 1. 1. 1.]\n",
      "[[ 9.14862000e+05  2.00000000e+00  2.59222103e-01 ... -1.94995205e-01\n",
      "  -1.17087796e+00  8.55721509e-02]\n",
      " [ 9.03811000e+05  2.00000000e+00 -1.91118094e-02 ... -5.40486699e-01\n",
      "  -6.11125866e-01 -9.89494708e-01]\n",
      " [ 9.25292000e+05  2.00000000e+00 -2.19519514e-02 ... -1.49315413e-01\n",
      "  -1.05277997e+00 -4.07759129e-02]\n",
      " ...\n",
      " [ 8.85429000e+05  1.00000000e+00  1.59124868e+00 ...  2.07224515e+00\n",
      "  -2.45507448e-01  2.53550544e+00]\n",
      " [ 8.71642000e+05  2.00000000e+00 -9.84760076e-01 ... -1.74506282e+00\n",
      "  -3.08600892e-01 -1.23609510e+00]\n",
      " [ 9.06024000e+05  2.00000000e+00 -4.05371116e-01 ... -4.92827450e-01\n",
      "  -2.03445152e-01  5.92626881e-01]]\n"
     ]
    }
   ],
   "source": [
    "# Data pre-processing\n",
    "data_shape = data.shape\n",
    "\n",
    "# Normalization\n",
    "mean_vector = np.zeros(data_shape[1]) # les 2 premiers éléments de mean_vector sont gardés à 0\n",
    "std_vector = np.ones(data_shape[1]) # les 2 premiers éléments de std_vector sont gardés à 1\n",
    "\n",
    "mean_vector [2:] = np.mean (data[:,2:],axis=0) # mean_vector[i] : moyenne de la colonne i (= colonne du feature i) \n",
    "std_vector [2:] = np.std (data [:,2:],axis=0)# std_vector[i] : écart-type de la colonne i (= colonne du feature i) \n",
    "\n",
    "norm_data = (data-mean_vector)/std_vector # normalized_data\n",
    "\n",
    "print(\"Vérification que la moyenne de chaque feature est environ = 0 : \\n\", np.mean(norm_data[:,2:],axis=0))\n",
    "print(\"Vérification que l'écart-type de chaque feature = 1 : \\n\",np.std(norm_data[:,2:],axis=0))\n",
    "\n",
    "\n",
    "# Séparation test et training set\n",
    "np.random.shuffle(norm_data) # mélange des exemples \n",
    "print(norm_data)\n"
   ]
  },
  {
   "cell_type": "markdown",
   "metadata": {},
   "source": [
    "### 3. Making K-NN faster using `cython`\n",
    "\n",
    "Cython is a package that permits to interface C code with Python easily. It may be useful to make your code faster for a small coding effort, in particular when using long loops.\n",
    "\n",
    "See <http://docs.cython.org/en/latest/src/tutorial/cython_tutorial.html> for more details.\n",
    "\n",
    "_Indication : an example is given in the notebook_ **`cython_example.ipy`**.\n",
    "\n",
    "** TO DO (subsidiary):** Here you may use it to implement a faster version of K-NN."
   ]
  },
  {
   "cell_type": "markdown",
   "metadata": {
    "collapsed": true
   },
   "source": [
    "### ALERT for Windows'users\n",
    "**Cython does not work properly if some precautions are not taken into account !**\n",
    "\n",
    "See <https://github.com/cython/cython/wiki/CythonExtensionsOnWindows>  for detailed explanations."
   ]
  },
  {
   "cell_type": "code",
   "execution_count": 23,
   "metadata": {},
   "outputs": [
    {
     "name": "stdout",
     "output_type": "stream",
     "text": [
      "[ 0.   0.1  0.2  0.3  0.4 -0.5 -0.4 -0.3 -0.2 -0.1]\n",
      "[-0.5 -0.4 -0.3 -0.2 -0.1  0.   0.1  0.2  0.3  0.4]\n"
     ]
    }
   ],
   "source": []
  },
  {
   "cell_type": "code",
   "execution_count": null,
   "metadata": {},
   "outputs": [],
   "source": []
  }
 ],
 "metadata": {
  "kernelspec": {
   "display_name": "Python 3",
   "language": "python",
   "name": "python3"
  },
  "language_info": {
   "codemirror_mode": {
    "name": "ipython",
    "version": 3
   },
   "file_extension": ".py",
   "mimetype": "text/x-python",
   "name": "python",
   "nbconvert_exporter": "python",
   "pygments_lexer": "ipython3",
   "version": "3.6.5"
  }
 },
 "nbformat": 4,
 "nbformat_minor": 2
}
