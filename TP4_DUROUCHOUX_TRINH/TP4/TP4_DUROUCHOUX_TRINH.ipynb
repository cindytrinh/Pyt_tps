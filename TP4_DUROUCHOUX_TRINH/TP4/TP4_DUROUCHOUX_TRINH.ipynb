{
 "cells": [
  {
   "cell_type": "markdown",
   "metadata": {},
   "source": [
    "# TP4 : K-nearest neighbours & cython"
   ]
  },
  {
   "cell_type": "markdown",
   "metadata": {},
   "source": [
    "## A. Useful iterable objects: _range_, _enumerate_ , _zip_, dictionaries...\n",
    "When using loops, _iterators_ can take various forms. When using a simple number, _range()_ is fine as in:"
   ]
  },
  {
   "cell_type": "code",
   "execution_count": 2,
   "metadata": {},
   "outputs": [],
   "source": [
    "import matplotlib.pyplot as plt\n",
    "import numpy as np\n",
    "\n",
    "%matplotlib notebook"
   ]
  },
  {
   "cell_type": "code",
   "execution_count": 2,
   "metadata": {},
   "outputs": [
    {
     "name": "stdout",
     "output_type": "stream",
     "text": [
      "0\n",
      "1\n",
      "2\n",
      "3\n",
      "4\n"
     ]
    }
   ],
   "source": [
    "for i in range(5):\n",
    "    print(i)"
   ]
  },
  {
   "cell_type": "markdown",
   "metadata": {},
   "source": [
    "_range()_ is **iterable**, not building an explicit list in the memory. \n",
    "You may also use simple lists as in:"
   ]
  },
  {
   "cell_type": "code",
   "execution_count": 3,
   "metadata": {},
   "outputs": [
    {
     "name": "stdout",
     "output_type": "stream",
     "text": [
      "cat 3\n",
      "window 6\n",
      "defenestrate 12\n"
     ]
    }
   ],
   "source": [
    "words = ['cat', 'window', 'defenestrate']\n",
    "for w in words:\n",
    "    print(w, len(w))"
   ]
  },
  {
   "cell_type": "markdown",
   "metadata": {},
   "source": [
    "If you want to use both the element of a list and its index inthis list, **enumerate()** might be useful.\n",
    "Go to <https://docs.python.org/3.6/library/functions.html#enumerate> for more information."
   ]
  },
  {
   "cell_type": "code",
   "execution_count": 4,
   "metadata": {},
   "outputs": [
    {
     "name": "stdout",
     "output_type": "stream",
     "text": [
      "0 tic\n",
      "1 tac\n",
      "2 toe\n"
     ]
    }
   ],
   "source": [
    "for i, v in enumerate(['tic', 'tac', 'toe']):\n",
    "    print(i, v)"
   ]
  },
  {
   "cell_type": "markdown",
   "metadata": {},
   "source": [
    "When looping through **dictionaries**, the key and corresponding value can be retrieved at the same time using the items() method."
   ]
  },
  {
   "cell_type": "code",
   "execution_count": 5,
   "metadata": {},
   "outputs": [
    {
     "name": "stdout",
     "output_type": "stream",
     "text": [
      "gallahad the pure\n",
      "robin the brave\n"
     ]
    }
   ],
   "source": [
    "knights = {'gallahad': 'the pure', 'robin': 'the brave'}\n",
    "for k, v in knights.items():\n",
    "    print(k, v)"
   ]
  },
  {
   "cell_type": "markdown",
   "metadata": {},
   "source": [
    "\n",
    "\n",
    "To loop over two or more sequences at the same time, the entries can be paired with the **zip()** function."
   ]
  },
  {
   "cell_type": "code",
   "execution_count": 6,
   "metadata": {},
   "outputs": [
    {
     "name": "stdout",
     "output_type": "stream",
     "text": [
      "What is your name?  It is lancelot.\n",
      "What is your quest?  It is the holy grail.\n",
      "What is your favorite color?  It is blue.\n"
     ]
    }
   ],
   "source": [
    "questions = ['name', 'quest', 'favorite color']\n",
    "answers = ['lancelot', 'the holy grail', 'blue']\n",
    "for q, a in zip(questions, answers):\n",
    "    print('What is your {0}?  It is {1}.'.format(q, a))"
   ]
  },
  {
   "cell_type": "markdown",
   "metadata": {},
   "source": [
    "Note in passing how the final string has been obtained using _.format(q,a)_."
   ]
  },
  {
   "cell_type": "markdown",
   "metadata": {},
   "source": [
    "Go to <https://docs.python.org/3.6/tutorial/datastructures.html#tut-loopidioms> for more details on loops."
   ]
  },
  {
   "cell_type": "markdown",
   "metadata": {},
   "source": [
    "## B. Classification using the K-nearest neighbours algorithm"
   ]
  },
  {
   "cell_type": "markdown",
   "metadata": {},
   "source": [
    "This practical is a first introduction to classification using the most intuitive non parametric method : K nearest neighbours. The principle is the following. A set of labelled observations which can belong to 2 classes is given as a learning set. Then new observations must be classified as either of class 1 or 2. The principle of K-NN is to label a new observation from the most frequent label among its K nearest neighbours."
   ]
  },
  {
   "cell_type": "markdown",
   "metadata": {},
   "source": [
    "### 1. Using synthetic data\n",
    "Load the training and test data sets synth_train.txt and synth_test.txt. Targets belong to {1,2} and entries belong to $\\mathbb{R}^2$. We have 100 training data samples and 200 test samples.\n",
    "    * the 1st column contains the label of the class the sample,\n",
    "    * columns 2 & 3 contain the coordinates of each sample in 2D.\n"
   ]
  },
  {
   "cell_type": "code",
   "execution_count": 4,
   "metadata": {},
   "outputs": [
    {
     "name": "stdout",
     "output_type": "stream",
     "text": [
      "100\n"
     ]
    }
   ],
   "source": [
    "# load the training set\n",
    "train = np.loadtxt('synth_train.txt')  #...,delimiter=',') if there are ',' as delimiters\n",
    "class_train = train[:,0]\n",
    "x_train = train[:,1:]\n",
    "N_train = train.shape[0]\n",
    "print(N_train)"
   ]
  },
  {
   "cell_type": "code",
   "execution_count": 27,
   "metadata": {},
   "outputs": [
    {
     "name": "stdout",
     "output_type": "stream",
     "text": [
      "[[ 2.00000000e+00  5.48377329e-01  1.22134530e+00]\n",
      " [ 2.00000000e+00 -5.16182355e-01  1.56239592e+00]\n",
      " [ 2.00000000e+00 -9.28778331e-01  9.21072165e-01]\n",
      " [ 2.00000000e+00  7.00040452e-02  6.19767466e-01]\n",
      " [ 2.00000000e+00  2.67028434e-01  1.10944064e+00]\n",
      " [ 2.00000000e+00 -5.76640735e-01  1.02574324e+00]\n",
      " [ 2.00000000e+00 -5.71998215e-01  9.74854418e-01]\n",
      " [ 2.00000000e+00  8.59104287e-02  1.44378449e+00]\n",
      " [ 2.00000000e+00  5.83964255e-01  6.73844517e-01]\n",
      " [ 1.00000000e+00 -1.06711928e+00  2.74219239e+00]\n",
      " [ 2.00000000e+00 -5.62649176e-02  7.33069929e-01]\n",
      " [ 1.00000000e+00 -5.24936248e-01  2.29796093e+00]\n",
      " [ 1.00000000e+00 -1.23658249e+00  8.23154360e-01]\n",
      " [ 2.00000000e+00 -7.78122419e-02  1.72951379e+00]\n",
      " [ 1.00000000e+00 -3.13748144e-01  2.49300606e+00]\n",
      " [ 2.00000000e+00  3.20501891e-01  1.53374221e+00]\n",
      " [ 1.00000000e+00 -6.73953041e-02  1.87508168e+00]\n",
      " [ 1.00000000e+00 -1.47557179e+00  2.13126285e+00]\n",
      " [ 1.00000000e+00 -7.63320669e-01  2.37500358e+00]\n",
      " [ 2.00000000e+00  2.48011556e-01  4.75487463e-01]\n",
      " [ 2.00000000e+00  5.07678126e-02  1.32648867e+00]\n",
      " [ 1.00000000e+00 -9.63208133e-01  2.51852029e+00]\n",
      " [ 2.00000000e+00 -3.77217561e-02  1.71075479e-01]\n",
      " [ 1.00000000e+00 -8.45406922e-01  2.54204915e+00]\n",
      " [ 2.00000000e+00 -2.73976476e-01  2.00372611e+00]\n",
      " [ 2.00000000e+00  3.87069805e-01  8.14094889e-01]\n",
      " [ 1.00000000e+00 -5.15453361e-01  2.87772460e+00]\n",
      " [ 2.00000000e+00 -2.36570846e-01  2.71951144e-01]\n",
      " [ 2.00000000e+00  1.18125542e-01  4.95924902e-01]\n",
      " [ 1.00000000e+00 -1.57193990e+00  2.31359927e+00]\n",
      " [ 2.00000000e+00  1.08560056e-01  1.10754480e+00]\n",
      " [ 1.00000000e+00 -2.97763681e-01  2.61729224e+00]\n",
      " [ 2.00000000e+00 -8.26061224e-02  9.54502725e-01]\n",
      " [ 1.00000000e+00 -4.75767227e-01  3.10209136e+00]\n",
      " [ 2.00000000e+00  2.25359536e-01  6.32175514e-01]\n",
      " [ 2.00000000e+00 -4.50367582e-01  7.25781342e-01]\n",
      " [ 1.00000000e+00 -1.58918211e+00  1.86042125e+00]\n",
      " [ 1.00000000e+00 -5.28189115e-01  2.73299471e+00]\n",
      " [ 2.00000000e+00 -9.13710710e-03  1.27680423e+00]\n",
      " [ 2.00000000e+00  2.36993293e-02  9.20445135e-01]\n",
      " [ 2.00000000e+00 -1.12197108e+00  7.95807109e-01]\n",
      " [ 2.00000000e+00 -2.10840677e-01  7.49413481e-01]\n",
      " [ 1.00000000e+00 -4.39299421e-01  1.14285780e+00]\n",
      " [ 2.00000000e+00  2.53558970e-01  9.99354716e-01]\n",
      " [ 2.00000000e+00  5.65460587e-02  1.30449333e+00]\n",
      " [ 1.00000000e+00 -8.45790722e-01  1.20634141e+00]\n",
      " [ 2.00000000e+00 -1.38891086e-01  1.29306999e+00]\n",
      " [ 1.00000000e+00 -7.67614021e-01  2.73570474e+00]\n",
      " [ 1.00000000e+00 -2.32044285e+00  1.71197395e-01]\n",
      " [ 2.00000000e+00  1.81205251e-01  6.85852110e-01]\n",
      " [ 2.00000000e+00  6.16237373e-02  2.90351896e-01]\n",
      " [ 1.00000000e+00 -1.97950817e+00  1.95246043e+00]\n",
      " [ 1.00000000e+00 -1.82865193e+00  1.17634595e+00]\n",
      " [ 1.00000000e+00 -3.96859461e-01  2.63190361e+00]\n",
      " [ 2.00000000e+00  1.85940765e-01  1.01921893e+00]\n",
      " [ 2.00000000e+00  2.42214625e-01  6.32780279e-01]\n",
      " [ 1.00000000e+00 -1.75949748e+00  2.03619486e+00]\n",
      " [ 2.00000000e+00 -7.86570617e-01  9.33769474e-01]\n",
      " [ 2.00000000e+00 -2.72972303e-01  1.34032052e+00]\n",
      " [ 2.00000000e+00 -6.83492982e-02  7.50718278e-01]\n",
      " [ 2.00000000e+00  3.79817362e-01  1.20988055e+00]\n",
      " [ 2.00000000e+00  4.11877216e-01  5.94430318e-01]\n",
      " [ 2.00000000e+00  6.24493102e-01  9.15164136e-01]\n",
      " [ 1.00000000e+00  3.74218224e-01  2.68485102e+00]\n",
      " [ 2.00000000e+00 -3.59385981e-01  1.12862285e+00]\n",
      " [ 2.00000000e+00  2.04001381e-03  1.14583204e+00]\n",
      " [ 2.00000000e+00 -6.27939690e-01  1.09193082e+00]\n",
      " [ 1.00000000e+00 -9.79911850e-01  3.10411732e+00]\n",
      " [ 2.00000000e+00 -3.09670876e-03  8.48733737e-01]\n",
      " [ 2.00000000e+00  4.72659868e-01  1.00659220e+00]\n",
      " [ 2.00000000e+00 -3.64861431e-01  1.06574959e-01]\n",
      " [ 1.00000000e+00 -1.14092922e+00  1.70457752e+00]\n",
      " [ 2.00000000e+00  5.98031033e-01  2.77160948e-01]\n",
      " [ 2.00000000e+00 -4.33484839e-01  7.87972492e-01]\n",
      " [ 1.00000000e+00 -6.61738018e-01  1.61404578e+00]\n",
      " [ 1.00000000e+00 -9.28490570e-01  2.65609878e+00]\n",
      " [ 1.00000000e+00  2.72617399e-01  2.26668690e+00]\n",
      " [ 2.00000000e+00  4.69379752e-01  1.59170535e+00]\n",
      " [ 1.00000000e+00 -9.82806734e-01  1.91846739e+00]\n",
      " [ 1.00000000e+00 -8.07872183e-01  2.31815604e+00]\n",
      " [ 1.00000000e+00 -9.06407397e-01  3.56856181e+00]\n",
      " [ 2.00000000e+00  3.17657130e-01  7.93146108e-01]\n",
      " [ 1.00000000e+00 -1.24450838e+00  2.17265708e+00]\n",
      " [ 2.00000000e+00 -8.28662994e-01  1.02379893e+00]\n",
      " [ 2.00000000e+00  1.25223148e-01  1.03783690e+00]\n",
      " [ 2.00000000e+00  4.02829031e-01  4.07156532e-01]\n",
      " [ 1.00000000e+00 -6.44725983e-01  2.38648557e+00]\n",
      " [ 1.00000000e+00 -1.25024565e-01  2.54365962e+00]\n",
      " [ 2.00000000e+00  1.22509415e-01  1.33727320e+00]\n",
      " [ 2.00000000e+00 -1.17159123e-01  2.26014806e-01]\n",
      " [ 2.00000000e+00 -4.14896196e-01  1.55619073e+00]\n",
      " [ 2.00000000e+00  6.67010909e-01  6.39555638e-01]\n",
      " [ 1.00000000e+00 -3.23341542e-01  1.63493666e+00]\n",
      " [ 2.00000000e+00  1.95800676e-01  9.35928805e-01]\n",
      " [ 2.00000000e+00  9.20280893e-01  8.32502840e-01]\n",
      " [ 2.00000000e+00 -4.19813897e-01  6.36208571e-01]\n",
      " [ 2.00000000e+00  7.64522988e-01  8.25398950e-01]\n",
      " [ 2.00000000e+00 -2.00450392e-01  1.31947882e+00]\n",
      " [ 1.00000000e+00 -5.56557714e-01  1.51297128e+00]\n",
      " [ 2.00000000e+00 -8.17012805e-01  1.23967181e+00]\n",
      " [ 2.00000000e+00 -3.07481598e-01  1.14202420e+00]\n",
      " [ 2.00000000e+00  5.18372392e-01  1.05741689e+00]\n",
      " [ 2.00000000e+00 -5.22216420e-02  7.10072808e-01]\n",
      " [ 2.00000000e+00 -8.91407689e-02  1.39429475e+00]\n",
      " [ 2.00000000e+00 -3.76213459e-01  9.30751730e-01]\n",
      " [ 2.00000000e+00 -1.85552176e-01  7.05457630e-01]\n",
      " [ 2.00000000e+00  4.52703118e-02  8.37793024e-01]\n",
      " [ 1.00000000e+00 -2.04640660e+00  1.45891620e+00]\n",
      " [ 2.00000000e+00  1.42624578e-01  3.48612563e-01]\n",
      " [ 2.00000000e+00  2.17884225e-01  2.99383442e-01]\n",
      " [ 2.00000000e+00 -2.62772779e-01  1.13515762e+00]\n",
      " [ 2.00000000e+00 -3.92743472e-01 -2.79656875e-01]\n",
      " [ 2.00000000e+00 -1.52963735e-01  7.32629392e-01]\n",
      " [ 2.00000000e+00 -3.08434595e-01  1.30016576e+00]\n",
      " [ 2.00000000e+00 -4.43331283e-01  1.37424173e+00]\n",
      " [ 2.00000000e+00  5.59985594e-01  6.00807013e-01]\n",
      " [ 1.00000000e+00 -7.78445112e-01  2.51026387e+00]\n",
      " [ 2.00000000e+00  2.91103772e-03  8.94505802e-01]\n",
      " [ 2.00000000e+00  8.78565648e-01  1.39559807e+00]\n",
      " [ 2.00000000e+00 -2.56930499e-01  1.22349528e+00]\n",
      " [ 2.00000000e+00  1.06636130e-01  1.34804317e+00]\n",
      " [ 2.00000000e+00  2.63023271e-01  1.61623094e+00]\n",
      " [ 2.00000000e+00 -8.48661484e-01  2.04548253e-01]\n",
      " [ 1.00000000e+00 -2.41274779e+00  9.50345029e-01]\n",
      " [ 2.00000000e+00  1.11993914e-01  1.12797549e+00]\n",
      " [ 1.00000000e+00 -1.57510019e+00  2.10375615e+00]\n",
      " [ 2.00000000e+00 -6.13221147e-01  1.00460963e+00]\n",
      " [ 2.00000000e+00 -1.83816195e-01  1.29675358e+00]\n",
      " [ 2.00000000e+00 -9.51863339e-02  9.80307141e-01]\n",
      " [ 2.00000000e+00 -1.97407853e-01  5.28213483e-01]\n",
      " [ 2.00000000e+00  5.77566803e-02  1.22782327e+00]\n",
      " [ 2.00000000e+00 -2.04539824e-01  1.26668940e+00]\n",
      " [ 2.00000000e+00  3.60912290e-01  9.59838994e-01]\n",
      " [ 2.00000000e+00 -4.10813412e-02  5.88009716e-01]\n",
      " [ 1.00000000e+00 -1.67968566e+00  2.60184083e+00]\n",
      " [ 1.00000000e+00 -3.35028542e-01  2.59649553e+00]\n",
      " [ 2.00000000e+00  4.14599190e-01  4.51285088e-01]\n",
      " [ 2.00000000e+00  3.98756393e-01  1.12888051e+00]\n",
      " [ 2.00000000e+00 -2.14172069e-02  3.05985290e-01]\n",
      " [ 2.00000000e+00 -4.07777798e-01  1.02210785e+00]\n",
      " [ 2.00000000e+00  1.37821731e-01  1.13400243e+00]\n",
      " [ 2.00000000e+00 -6.54821027e-02  9.53905306e-01]\n",
      " [ 1.00000000e+00 -7.21912456e-01  2.72702091e+00]\n",
      " [ 1.00000000e+00 -2.07619415e+00  1.70558056e+00]\n",
      " [ 1.00000000e+00 -2.18751664e+00  1.73380235e+00]\n",
      " [ 1.00000000e+00 -1.19720639e-01  1.79715247e+00]\n",
      " [ 2.00000000e+00  1.08089384e-01  1.24567641e+00]\n",
      " [ 2.00000000e+00  8.56221747e-02  8.97228099e-01]\n",
      " [ 1.00000000e+00 -6.60248501e-01  1.98502531e+00]\n",
      " [ 2.00000000e+00  4.86436846e-01 -5.93180578e-03]\n",
      " [ 2.00000000e+00 -2.82665995e-01  1.58873801e+00]\n",
      " [ 2.00000000e+00 -6.56915674e-01  1.07912924e+00]\n",
      " [ 2.00000000e+00 -9.59839891e-02  1.21747217e+00]\n",
      " [ 2.00000000e+00  5.67023048e-01  1.48769278e+00]\n",
      " [ 1.00000000e+00 -1.31006572e+00  2.00811550e+00]\n",
      " [ 2.00000000e+00  1.13367514e+00  1.19616820e+00]\n",
      " [ 2.00000000e+00 -3.74620094e-01  4.15267054e-01]\n",
      " [ 2.00000000e+00 -8.82190485e-02  1.29030996e+00]\n",
      " [ 1.00000000e+00 -3.66464809e-01  1.35425828e+00]\n",
      " [ 2.00000000e+00  3.78566606e-01  1.04926274e+00]\n",
      " [ 1.00000000e+00 -1.28110019e+00  1.97519047e+00]\n",
      " [ 2.00000000e+00 -4.62213861e-01  1.57920724e+00]\n",
      " [ 2.00000000e+00 -2.21525980e-01  1.20963832e+00]\n",
      " [ 2.00000000e+00 -7.67846622e-01  1.65763614e+00]\n",
      " [ 2.00000000e+00 -2.28390636e-01  1.05070838e+00]\n",
      " [ 2.00000000e+00 -6.53706799e-01 -2.89019909e-01]\n",
      " [ 2.00000000e+00 -2.06821060e-01  7.42116116e-01]\n",
      " [ 1.00000000e+00 -2.28497956e+00  9.33876863e-01]\n",
      " [ 2.00000000e+00 -4.74856259e-01  1.20146692e+00]\n",
      " [ 2.00000000e+00 -4.53717650e-02  3.60884391e-01]\n",
      " [ 1.00000000e+00 -7.09988962e-01  1.72715318e+00]\n",
      " [ 2.00000000e+00  8.84545558e-01  1.35565396e+00]\n",
      " [ 2.00000000e+00  1.05557165e+00  1.52565267e+00]\n",
      " [ 2.00000000e+00  8.72624954e-01  5.95425375e-01]\n",
      " [ 1.00000000e+00  4.27147660e-01  3.11330391e+00]\n",
      " [ 2.00000000e+00  2.04898647e-01  8.81871151e-01]\n",
      " [ 2.00000000e+00 -1.72981389e-01  7.52246829e-01]\n",
      " [ 1.00000000e+00 -1.04231906e+00  1.64951777e+00]\n",
      " [ 2.00000000e+00  1.05330756e-01  1.45677348e+00]\n",
      " [ 2.00000000e+00 -3.64707620e-02  1.56270505e+00]\n",
      " [ 2.00000000e+00  1.47315987e-02  1.75689924e+00]\n",
      " [ 2.00000000e+00  1.64811724e-01  1.98029253e+00]\n",
      " [ 2.00000000e+00  4.05739103e-01  1.17989595e+00]\n",
      " [ 2.00000000e+00 -5.15259328e-02  1.81482320e+00]\n",
      " [ 1.00000000e+00 -1.45041108e+00  1.62295012e+00]\n",
      " [ 2.00000000e+00 -7.97775408e-01  1.23660620e+00]\n",
      " [ 2.00000000e+00 -4.20441119e-01  8.84043351e-01]\n",
      " [ 1.00000000e+00  1.48730086e-01  2.90052858e+00]\n",
      " [ 1.00000000e+00 -1.65439614e+00  1.66317302e+00]\n",
      " [ 2.00000000e+00  1.23099746e-01  1.15799581e+00]\n",
      " [ 1.00000000e+00 -8.82529287e-01  2.50954583e+00]\n",
      " [ 1.00000000e+00 -2.02186254e-01  3.87335149e+00]\n",
      " [ 1.00000000e+00 -2.46134069e+00  1.08212758e+00]\n",
      " [ 2.00000000e+00 -3.65213174e-02  9.29128590e-01]\n",
      " [ 2.00000000e+00 -4.76107083e-01  2.64818829e-01]\n",
      " [ 2.00000000e+00  1.30861022e-01  4.68885298e-01]\n",
      " [ 2.00000000e+00 -5.80202219e-01  9.45542698e-01]\n",
      " [ 2.00000000e+00 -3.75980352e-01  8.43711905e-01]\n",
      " [ 2.00000000e+00  8.73127955e-01  1.20528156e+00]\n",
      " [ 1.00000000e+00 -1.15937101e+00  1.74582542e+00]]\n"
     ]
    }
   ],
   "source": [
    "# load the test set\n",
    "test = np.loadtxt('synth_test.txt') \n",
    "class_test_1 = test[test[:,0]==1]\n",
    "class_test_2 = test[test[:,0]==2]\n",
    "x_test = test[:,1:]\n",
    "N_test = test.shape[0]\n",
    "print(test)"
   ]
  },
  {
   "cell_type": "markdown",
   "metadata": {},
   "source": [
    "### TO DO:\n",
    "    a. Display the training set and distinguish the two classes. The function scatter can be useful.\n",
    "    b. Implement the K-nearest neighbours algorithm for classification.\n",
    "    c. Compute the error rate on the training set and the test set for K = 1,...,30.\n",
    "    d. Comment on your results. Which value of K seems optimal ?\n",
    "\n",
    "_Indication 1:_ Python functions to sort, norm and replicate (see `tile()`) matrices may be useful to compute and sort distances to a given data point while limiting the number of loops 'for'.\n",
    "\n",
    "_Indication 2:_ if class_pred contains the predicted labels for N_test samples, one can display classification results by using:"
   ]
  },
  {
   "cell_type": "code",
   "execution_count": 6,
   "metadata": {},
   "outputs": [],
   "source": [
    "# Code a. Display the training set and distinguish the two classes. The function scatter can be useful."
   ]
  },
  {
   "cell_type": "code",
   "execution_count": 7,
   "metadata": {},
   "outputs": [
    {
     "data": {
      "image/png": "[encoded data removed]",
      "text/plain": [
       "<Figure size 432x288 with 1 Axes>"
      ]
     },
     "metadata": {},
     "output_type": "display_data"
    }
   ],
   "source": [
    "plt.figure()\n",
    "plt.plot(train[class_train==1,1],train[class_train==1,2],'ko')  # class 1 in black\n",
    "plt.plot(train[class_train==2,1],train[class_train==2,2],'mo')  # class 2 in magenta\n",
    "\n",
    "plt.show()\n",
    "\n",
    "# plt.plot(test[class_pred==1,1],test[class_pred==1,2],'rs')  # red = predicted class = 1\n",
    "# plt.plot(test[class_pred==2,1],test[class_pred==1,2],'gs')  # green = predicted class = 2"
   ]
  },
  {
   "cell_type": "markdown",
   "metadata": {},
   "source": [
    "where `class_pred` contains the class predicted by your K-NN algorithm (TO DO !)."
   ]
  },
  {
   "cell_type": "code",
   "execution_count": 29,
   "metadata": {},
   "outputs": [
    {
     "name": "stdout",
     "output_type": "stream",
     "text": [
      "[2. 2. 2. 2. 2. 2. 2. 2. 2. 1. 2. 1. 1. 2. 1. 2. 2. 1. 1. 2. 2. 1. 2. 1.\n",
      " 2. 2. 1. 2. 2. 1. 2. 1. 2. 1. 2. 2. 1. 1. 2. 2. 1. 2. 2. 2. 2. 2. 2. 1.\n",
      " 1. 2. 2. 1. 1. 1. 2. 2. 1. 2. 2. 2. 2. 2. 2. 1. 2. 2. 2. 1. 2. 2. 2. 1.\n",
      " 2. 2. 1. 1. 2. 2. 1. 1. 1. 2. 1. 2. 2. 2. 1. 1. 2. 2. 2. 2. 2. 2. 2. 2.\n",
      " 2. 2. 1. 2. 2. 2. 2. 2. 2. 2. 2. 1. 2. 2. 2. 2. 2. 2. 2. 2. 1. 2. 2. 2.\n",
      " 2. 2. 2. 1. 2. 1. 2. 2. 2. 2. 2. 2. 2. 2. 1. 1. 2. 2. 2. 2. 2. 2. 1. 1.\n",
      " 1. 2. 2. 2. 1. 2. 2. 2. 2. 2. 1. 2. 2. 2. 2. 2. 1. 2. 2. 1. 2. 2. 2. 1.\n",
      " 2. 2. 1. 2. 2. 2. 1. 2. 2. 1. 2. 2. 2. 2. 2. 2. 1. 2. 2. 1. 1. 2. 1. 1.\n",
      " 1. 2. 2. 2. 2. 2. 2. 1.]\n",
      "[ True  True  True  True  True  True  True  True  True  True  True  True\n",
      "  True  True  True  True False  True  True  True  True  True  True  True\n",
      "  True  True  True  True  True  True  True  True  True  True  True  True\n",
      "  True  True  True  True False  True False  True  True False  True  True\n",
      "  True  True  True  True  True  True  True  True  True  True  True  True\n",
      "  True  True  True  True  True  True  True  True  True  True  True  True\n",
      "  True  True  True  True False  True  True  True  True  True  True  True\n",
      "  True  True  True  True  True  True  True  True False  True  True  True\n",
      "  True  True  True  True  True  True  True  True  True  True  True  True\n",
      "  True  True  True  True  True  True  True  True  True  True  True  True\n",
      "  True  True  True  True  True  True  True  True  True  True  True  True\n",
      "  True  True  True  True  True  True  True  True  True  True  True  True\n",
      "  True False  True  True  True  True  True  True  True  True  True  True\n",
      "  True  True False  True  True  True  True False  True  True  True  True\n",
      "  True  True  True  True  True  True  True  True  True  True  True  True\n",
      "  True  True  True  True  True  True  True  True  True  True  True  True\n",
      "  True  True  True  True  True  True  True  True]\n"
     ]
    }
   ],
   "source": [
    "# Pre-processing (normalization)\n",
    "\n",
    "\n",
    "# b. Implement the K-nearest neighbours algorithm for classification.\n",
    "K = 3\n",
    "\n",
    "# On calcule la matrice distances_square (N_test, N_train) : distances[i,j] donne la distance entre le point i du training set et\n",
    "# le point j du test set\n",
    "\n",
    "tile_x_test = np.tile(x_test[:,0],(N_train,1))\n",
    "tile_y_test = np.tile(x_test[:,1],(N_train,1))\n",
    "\n",
    "tile_x_train = np.transpose(np.tile(x_train[:,0],(N_test,1)))\n",
    "tile_y_train = np.transpose(np.tile(x_train[:,1],(N_test,1)))\n",
    "\n",
    "diff_x_square = np.square(tile_x_test - tile_x_train)\n",
    "diff_y_square = np.square(tile_y_test - tile_y_train)\n",
    "\n",
    "distances_square = diff_x_square + diff_y_square\n",
    "\n",
    "ind_sort = np.argsort(distances_square,axis=0) #tableau d'indices du training set ordonnés (ordre croissant des distances)\n",
    "\n",
    "knearest = ind_sort[:K,:] # la iè colonne de knearest donne les indices des k plus proches voisins du iè point du test set\n",
    "\n",
    "# knearest_class : array avec les classes correspondant aux indices de knearest\n",
    "knearest_class = np.zeros(knearest.shape)\n",
    "\n",
    "# count_class_1 : vecteur qui contient pour le test point i, le nombre de classes 1 parmi les knearest\n",
    "count_class_1 = np.zeros(N_test)\n",
    "\n",
    "# predic_class : vecteur qui contient la classe prédite pour le point i du test set\n",
    "predic_class = np.zeros(N_test)\n",
    "for i in range(N_test):\n",
    "    knearest_class[:,i] = class_train[knearest[:,i]]\n",
    "    count_class_1 [i]= np.sum (knearest_class[:,i]==1)\n",
    "    if (count_class_1[i] >= np.ceil(K/2) ):\n",
    "        predic_class[i] = 1\n",
    "    else:\n",
    "        predic_class[i] = 2\n",
    "    \n",
    "print(predic_class)\n",
    "print(test[:,0] == predic_class)\n",
    "accuracy = \n",
    "print(np.sum(test[:,0] == predic_class))\n",
    "\n",
    "#tile_x_train = np.tile(x_train.reshape(N_train*2), (N_test,1))\n",
    "#distances = np.square(tile_x_test - tile_x_train)\n",
    "#print(distances.shape)"
   ]
  },
  {
   "cell_type": "code",
   "execution_count": 22,
   "metadata": {},
   "outputs": [
    {
     "name": "stdout",
     "output_type": "stream",
     "text": [
      "[ True  True  True False  True  True False  True  True False]\n",
      "7\n"
     ]
    }
   ],
   "source": [
    "# c. Compute the error rate on the training set and the test set for K = 1,...,30.\n"
   ]
  },
  {
   "cell_type": "code",
   "execution_count": null,
   "metadata": {
    "collapsed": true
   },
   "outputs": [],
   "source": [
    "# d. Comment on your results. Which value of K seems optimal ?"
   ]
  },
  {
   "cell_type": "markdown",
   "metadata": {},
   "source": [
    "### 2. Application to a real data set : Breast cancer Wisconsin.\n",
    "\n",
    "** TO DO: Apply the K-NN classifier to the provided set wdbc12.data.txt.**\n",
    "\n",
    "Information about the data is provided in `wdbc12.names.txt`."
   ]
  },
  {
   "cell_type": "markdown",
   "metadata": {},
   "source": [
    "### 3. Making K-NN faster using `cython`\n",
    "\n",
    "Cython is a package that permits to interface C code with Python easily. It may be useful to make your code faster for a small coding effort, in particular when using long loops.\n",
    "\n",
    "See <http://docs.cython.org/en/latest/src/tutorial/cython_tutorial.html> for more details.\n",
    "\n",
    "_Indication : an example is given in the notebook_ **`cython_example.ipy`**.\n",
    "\n",
    "** TO DO (subsidiary):** Here you may use it to implement a faster version of K-NN."
   ]
  },
  {
   "cell_type": "markdown",
   "metadata": {
    "collapsed": true
   },
   "source": [
    "### ALERT for Windows'users\n",
    "**Cython does not work properly if some precautions are not taken into account !**\n",
    "\n",
    "See <https://github.com/cython/cython/wiki/CythonExtensionsOnWindows>  for detailed explanations."
   ]
  },
  {
   "cell_type": "code",
   "execution_count": 23,
   "metadata": {},
   "outputs": [
    {
     "name": "stdout",
     "output_type": "stream",
     "text": [
      "[ 0.   0.1  0.2  0.3  0.4 -0.5 -0.4 -0.3 -0.2 -0.1]\n",
      "[-0.5 -0.4 -0.3 -0.2 -0.1  0.   0.1  0.2  0.3  0.4]\n"
     ]
    }
   ],
   "source": [
    "print(np.fft.fftfreq(10))\n",
    "print(np.fft.fftshift(np.fft.fftfreq(10)))"
   ]
  },
  {
   "cell_type": "code",
   "execution_count": null,
   "metadata": {},
   "outputs": [],
   "source": []
  }
 ],
 "metadata": {
  "kernelspec": {
   "display_name": "Python 3",
   "language": "python",
   "name": "python3"
  },
  "language_info": {
   "codemirror_mode": {
    "name": "ipython",
    "version": 3
   },
   "file_extension": ".py",
   "mimetype": "text/x-python",
   "name": "python",
   "nbconvert_exporter": "python",
   "pygments_lexer": "ipython3",
   "version": "3.6.5"
  }
 },
 "nbformat": 4,
 "nbformat_minor": 2
}
