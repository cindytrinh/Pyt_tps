{
 "cells": [
  {
   "cell_type": "markdown",
   "metadata": {},
   "source": [
    "# TP4 : K-nearest neighbours & cython"
   ]
  },
  {
   "cell_type": "markdown",
   "metadata": {},
   "source": [
    "## A. Useful iterable objects: _range_, _enumerate_ , _zip_, dictionaries...\n",
    "When using loops, _iterators_ can take various forms. When using a simple number, _range()_ is fine as in:"
   ]
  },
  {
   "cell_type": "code",
   "execution_count": null,
   "metadata": {
    "collapsed": false
   },
   "outputs": [],
   "source": [
    "import matplotlib.pyplot as plt\n",
    "import numpy as np\n",
    "\n",
    "%matplotlib notebook"
   ]
  },
  {
   "cell_type": "code",
   "execution_count": null,
   "metadata": {
    "collapsed": false
   },
   "outputs": [],
   "source": [
    "for i in range(5):\n",
    "    print(i)"
   ]
  },
  {
   "cell_type": "markdown",
   "metadata": {},
   "source": [
    "_range()_ is **iterable**, not building an explicit list in the memory. \n",
    "You may also use simple lists as in:"
   ]
  },
  {
   "cell_type": "code",
   "execution_count": null,
   "metadata": {
    "collapsed": false
   },
   "outputs": [],
   "source": [
    "words = ['cat', 'window', 'defenestrate']\n",
    "for w in words:\n",
    "    print(w, len(w))"
   ]
  },
  {
   "cell_type": "markdown",
   "metadata": {},
   "source": [
    "If you want to use both the element of a list and its index inthis list, **enumerate()** might be useful.\n",
    "Go to <https://docs.python.org/3.6/library/functions.html#enumerate> for more information."
   ]
  },
  {
   "cell_type": "code",
   "execution_count": null,
   "metadata": {
    "collapsed": false
   },
   "outputs": [],
   "source": [
    "for i, v in enumerate(['tic', 'tac', 'toe']):\n",
    "    print(i, v)"
   ]
  },
  {
   "cell_type": "markdown",
   "metadata": {},
   "source": [
    "When looping through **dictionaries**, the key and corresponding value can be retrieved at the same time using the items() method."
   ]
  },
  {
   "cell_type": "code",
   "execution_count": null,
   "metadata": {
    "collapsed": false
   },
   "outputs": [],
   "source": [
    "knights = {'gallahad': 'the pure', 'robin': 'the brave'}\n",
    "for k, v in knights.items():\n",
    "    print(k, v)"
   ]
  },
  {
   "cell_type": "markdown",
   "metadata": {},
   "source": [
    "\n",
    "\n",
    "To loop over two or more sequences at the same time, the entries can be paired with the **zip()** function."
   ]
  },
  {
   "cell_type": "code",
   "execution_count": null,
   "metadata": {
    "collapsed": false
   },
   "outputs": [],
   "source": [
    "questions = ['name', 'quest', 'favorite color']\n",
    "answers = ['lancelot', 'the holy grail', 'blue']\n",
    "for q, a in zip(questions, answers):\n",
    "    print('What is your {0}?  It is {1}.'.format(q, a))"
   ]
  },
  {
   "cell_type": "markdown",
   "metadata": {},
   "source": [
    "Note in passing how the final string has been obtained using _.format(q,a)_."
   ]
  },
  {
   "cell_type": "markdown",
   "metadata": {},
   "source": [
    "Go to <https://docs.python.org/3.6/tutorial/datastructures.html#tut-loopidioms> for more details on loops."
   ]
  },
  {
   "cell_type": "markdown",
   "metadata": {},
   "source": [
    "## B. Classification using the K-nearest neighbours algorithm"
   ]
  },
  {
   "cell_type": "markdown",
   "metadata": {},
   "source": [
    "This practical is a first introduction to classification using the most intuitive non parametric method : K nearest neighbours. The principle is the following. A set of labelled observations which can belong to 2 classes is given as a learning set. Then new observations must be classified as either of class 1 or 2. The principle of K-NN is to label a new observation from the most frequent label among its K nearest neighbours."
   ]
  },
  {
   "cell_type": "markdown",
   "metadata": {},
   "source": [
    "### 1. Using synthetic data\n",
    "Load the training and test data sets synth_train.txt and synth_test.txt. Targets belong to {1,2} and entries belong to $\\mathbb{R}^2$. We have 100 training data samples and 200 test samples.\n",
    "    * the 1st column contains the label of the class the sample,\n",
    "    * columns 2 & 3 contain the coordinates of each sample in 2D.\n"
   ]
  },
  {
   "cell_type": "code",
   "execution_count": null,
   "metadata": {
    "collapsed": false
   },
   "outputs": [],
   "source": [
    "# load the training set\n",
    "train = np.loadtxt('synth_train.txt')  #...,delimiter=',') if there are ',' as delimiters\n",
    "class_train = train[:,0]\n",
    "x_train = train[:,1:]\n",
    "N_train = train.shape[0]"
   ]
  },
  {
   "cell_type": "code",
   "execution_count": null,
   "metadata": {
    "collapsed": false
   },
   "outputs": [],
   "source": [
    "# load the test set\n",
    "test = np.loadtxt('synth_test.txt') \n",
    "class_test_1 = test[test[:,0]==1]\n",
    "class_test_2 = test[test[:,0]==2]\n",
    "x_test = test[:,1:]\n",
    "N_test = test.shape[0]"
   ]
  },
  {
   "cell_type": "markdown",
   "metadata": {},
   "source": [
    "### TO DO:\n",
    "    a. Display the training set and distinguish the two classes. The function scatter can be useful.\n",
    "    b. Implement the K-nearest neighbours algorithm for classification.\n",
    "    c. Compute the error rate on the training set and the test set for K = 1,...,30.\n",
    "    d. Comment on your results. Which value of K seems optimal ?\n",
    "\n",
    "_Indication 1:_ Python functions to sort, norm and replicate (see `tile()`) matrices may be useful to compute and sort distances to a given data point while limiting the number of loops 'for'.\n",
    "\n",
    "_Indication 2:_ if class_pred contains the predicted labels for N_test samples, one can display classification results by using:"
   ]
  },
  {
   "cell_type": "code",
   "execution_count": null,
   "metadata": {
    "collapsed": true
   },
   "outputs": [],
   "source": [
    "# Code a. Display the training set and distinguish the two classes. The function scatter can be useful."
   ]
  },
  {
   "cell_type": "code",
   "execution_count": null,
   "metadata": {
    "collapsed": false
   },
   "outputs": [],
   "source": [
    "plt.figure()\n",
    "plt.plot(train[class_train==1,1],train[class_train==1,2],'ko')  # class 1 in black\n",
    "plt.plot(train[class_train==2,1],train[class_train==2,2],'mo')  # class 2 in magenta\n",
    "\n",
    "plt.show()\n",
    "\n",
    "# plt.plot(test[class_pred==1,1],test[class_pred==1,2],'rs')  # red = predicted class = 1\n",
    "# plt.plot(test[class_pred==2,1],test[class_pred==1,2],'gs')  # green = predicted class = 2"
   ]
  },
  {
   "cell_type": "markdown",
   "metadata": {},
   "source": [
    "where `class_pred` contains the class predicted by your K-NN algorithm (TO DO !)."
   ]
  },
  {
   "cell_type": "code",
   "execution_count": null,
   "metadata": {
    "collapsed": true
   },
   "outputs": [],
   "source": [
    "# b. Implement the K-nearest neighbours algorithm for classification."
   ]
  },
  {
   "cell_type": "code",
   "execution_count": null,
   "metadata": {
    "collapsed": true
   },
   "outputs": [],
   "source": [
    "# c. Compute the error rate on the training set and the test set for K = 1,...,30."
   ]
  },
  {
   "cell_type": "code",
   "execution_count": null,
   "metadata": {
    "collapsed": true
   },
   "outputs": [],
   "source": [
    "# d. Comment on your results. Which value of K seems optimal ?"
   ]
  },
  {
   "cell_type": "markdown",
   "metadata": {},
   "source": [
    "### 2. Application to a real data set : Breast cancer Wisconsin.\n",
    "\n",
    "** TO DO: Apply the K-NN classifier to the provided set wdbc12.data.txt.**\n",
    "\n",
    "Information about the data is provided in `wdbc12.names.txt`."
   ]
  },
  {
   "cell_type": "markdown",
   "metadata": {},
   "source": [
    "### 3. Making K-NN faster using `cython`\n",
    "\n",
    "Cython is a package that permits to interface C code with Python easily. It may be useful to make your code faster for a small coding effort, in particular when using long loops.\n",
    "\n",
    "See <http://docs.cython.org/en/latest/src/tutorial/cython_tutorial.html> for more details.\n",
    "\n",
    "_Indication : an example is given in the notebook_ **`cython_example.ipy`**.\n",
    "\n",
    "** TO DO (subsidiary):** Here you may use it to implement a faster version of K-NN."
   ]
  },
  {
   "cell_type": "code",
   "execution_count": null,
   "metadata": {
    "collapsed": true
   },
   "outputs": [],
   "source": []
  },
  {
   "cell_type": "code",
   "execution_count": null,
   "metadata": {
    "collapsed": true
   },
   "outputs": [],
   "source": []
  }
 ],
 "metadata": {
  "kernelspec": {
   "display_name": "Python 3",
   "language": "python",
   "name": "python3"
  },
  "language_info": {
   "codemirror_mode": {
    "name": "ipython",
    "version": 3
   },
   "file_extension": ".py",
   "mimetype": "text/x-python",
   "name": "python",
   "nbconvert_exporter": "python",
   "pygments_lexer": "ipython3",
   "version": "3.6.0"
  }
 },
 "nbformat": 4,
 "nbformat_minor": 2
}
