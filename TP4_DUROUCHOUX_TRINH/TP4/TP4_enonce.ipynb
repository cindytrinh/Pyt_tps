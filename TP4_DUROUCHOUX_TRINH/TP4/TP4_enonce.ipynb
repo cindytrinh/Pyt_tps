{
 "cells": [
  {
   "cell_type": "markdown",
   "metadata": {},
   "source": [
    "# TP4 : K-nearest neighbours & cython"
   ]
  },
  {
   "cell_type": "markdown",
   "metadata": {},
   "source": [
    "## A. Useful iterable objects: _range_, _enumerate_ , _zip_, dictionaries...\n",
    "When using loops, _iterators_ can take various forms. When using a simple number, _range()_ is fine as in:"
   ]
  },
  {
   "cell_type": "code",
   "execution_count": 1,
   "metadata": {},
   "outputs": [],
   "source": [
    "import matplotlib.pyplot as plt\n",
    "import numpy as np\n",
    "\n",
    "%matplotlib notebook"
   ]
  },
  {
   "cell_type": "code",
   "execution_count": 2,
   "metadata": {},
   "outputs": [
    {
     "name": "stdout",
     "output_type": "stream",
     "text": [
      "0\n",
      "1\n",
      "2\n",
      "3\n",
      "4\n"
     ]
    }
   ],
   "source": [
    "for i in range(5):\n",
    "    print(i)"
   ]
  },
  {
   "cell_type": "markdown",
   "metadata": {},
   "source": [
    "_range()_ is **iterable**, not building an explicit list in the memory. \n",
    "You may also use simple lists as in:"
   ]
  },
  {
   "cell_type": "code",
   "execution_count": 3,
   "metadata": {},
   "outputs": [
    {
     "name": "stdout",
     "output_type": "stream",
     "text": [
      "cat 3\n",
      "window 6\n",
      "defenestrate 12\n"
     ]
    }
   ],
   "source": [
    "words = ['cat', 'window', 'defenestrate']\n",
    "for w in words:\n",
    "    print(w, len(w))"
   ]
  },
  {
   "cell_type": "markdown",
   "metadata": {},
   "source": [
    "If you want to use both the element of a list and its index inthis list, **enumerate()** might be useful.\n",
    "Go to <https://docs.python.org/3.6/library/functions.html#enumerate> for more information."
   ]
  },
  {
   "cell_type": "code",
   "execution_count": 4,
   "metadata": {},
   "outputs": [
    {
     "name": "stdout",
     "output_type": "stream",
     "text": [
      "0 tic\n",
      "1 tac\n",
      "2 toe\n"
     ]
    }
   ],
   "source": [
    "for i, v in enumerate(['tic', 'tac', 'toe']):\n",
    "    print(i, v)"
   ]
  },
  {
   "cell_type": "markdown",
   "metadata": {},
   "source": [
    "When looping through **dictionaries**, the key and corresponding value can be retrieved at the same time using the items() method."
   ]
  },
  {
   "cell_type": "code",
   "execution_count": 5,
   "metadata": {},
   "outputs": [
    {
     "name": "stdout",
     "output_type": "stream",
     "text": [
      "gallahad the pure\n",
      "robin the brave\n"
     ]
    }
   ],
   "source": [
    "knights = {'gallahad': 'the pure', 'robin': 'the brave'}\n",
    "for k, v in knights.items():\n",
    "    print(k, v)"
   ]
  },
  {
   "cell_type": "markdown",
   "metadata": {},
   "source": [
    "\n",
    "\n",
    "To loop over two or more sequences at the same time, the entries can be paired with the **zip()** function."
   ]
  },
  {
   "cell_type": "code",
   "execution_count": 6,
   "metadata": {},
   "outputs": [
    {
     "name": "stdout",
     "output_type": "stream",
     "text": [
      "What is your name?  It is lancelot.\n",
      "What is your quest?  It is the holy grail.\n",
      "What is your favorite color?  It is blue.\n"
     ]
    }
   ],
   "source": [
    "questions = ['name', 'quest', 'favorite color']\n",
    "answers = ['lancelot', 'the holy grail', 'blue']\n",
    "for q, a in zip(questions, answers):\n",
    "    print('What is your {0}?  It is {1}.'.format(q, a))"
   ]
  },
  {
   "cell_type": "markdown",
   "metadata": {},
   "source": [
    "Note in passing how the final string has been obtained using _.format(q,a)_."
   ]
  },
  {
   "cell_type": "markdown",
   "metadata": {},
   "source": [
    "Go to <https://docs.python.org/3.6/tutorial/datastructures.html#tut-loopidioms> for more details on loops."
   ]
  },
  {
   "cell_type": "markdown",
   "metadata": {},
   "source": [
    "## B. Classification using the K-nearest neighbours algorithm"
   ]
  },
  {
   "cell_type": "markdown",
   "metadata": {},
   "source": [
    "This practical is a first introduction to classification using the most intuitive non parametric method : K nearest neighbours. The principle is the following. A set of labelled observations which can belong to 2 classes is given as a learning set. Then new observations must be classified as either of class 1 or 2. The principle of K-NN is to label a new observation from the most frequent label among its K nearest neighbours."
   ]
  },
  {
   "cell_type": "markdown",
   "metadata": {},
   "source": [
    "### 1. Using synthetic data\n",
    "Load the training and test data sets synth_train.txt and synth_test.txt. Targets belong to {1,2} and entries belong to $\\mathbb{R}^2$. We have 100 training data samples and 200 test samples.\n",
    "    * the 1st column contains the label of the class the sample,\n",
    "    * columns 2 & 3 contain the coordinates of each sample in 2D.\n"
   ]
  },
  {
   "cell_type": "code",
   "execution_count": 23,
   "metadata": {},
   "outputs": [
    {
     "name": "stdout",
     "output_type": "stream",
     "text": [
      "100\n"
     ]
    }
   ],
   "source": [
    "# load the training set\n",
    "train = np.loadtxt('U:\\DAD\\Python\\TP4_DUROUCHOUX_TRINH\\TP4\\synth_train.txt')  #...,delimiter=',') if there are ',' as delimiters\n",
    "class_train = train[:,0]\n",
    "x_train = train[:,1:]\n",
    "N_train = train.shape[0]\n",
    "print(N_train)"
   ]
  },
  {
   "cell_type": "code",
   "execution_count": 22,
   "metadata": {},
   "outputs": [
    {
     "name": "stdout",
     "output_type": "stream",
     "text": [
      "200\n"
     ]
    }
   ],
   "source": [
    "# load the test set\n",
    "test = np.loadtxt('U:\\DAD\\Python\\TP4_DUROUCHOUX_TRINH\\TP4\\synth_test.txt') \n",
    "class_test_1 = test[test[:,0]==1]\n",
    "class_test_2 = test[test[:,0]==2]\n",
    "x_test = test[:,1:]\n",
    "N_test = test.shape[0]\n",
    "print(N_test)"
   ]
  },
  {
   "cell_type": "markdown",
   "metadata": {},
   "source": [
    "### TO DO:\n",
    "    a. Display the training set and distinguish the two classes. The function scatter can be useful.\n",
    "    b. Implement the K-nearest neighbours algorithm for classification.\n",
    "    c. Compute the error rate on the training set and the test set for K = 1,...,30.\n",
    "    d. Comment on your results. Which value of K seems optimal ?\n",
    "\n",
    "_Indication 1:_ Python functions to sort, norm and replicate (see `tile()`) matrices may be useful to compute and sort distances to a given data point while limiting the number of loops 'for'.\n",
    "\n",
    "_Indication 2:_ if class_pred contains the predicted labels for N_test samples, one can display classification results by using:"
   ]
  },
  {
   "cell_type": "code",
   "execution_count": null,
   "metadata": {
    "collapsed": true
   },
   "outputs": [],
   "source": [
    "# Code a. Display the training set and distinguish the two classes. The function scatter can be useful."
   ]
  },
  {
   "cell_type": "code",
   "execution_count": 11,
   "metadata": {},
   "outputs": [
    {
     "data": {
      "image/png": "[encoded data removed]",
      "text/plain": [
       "<Figure size 432x288 with 1 Axes>"
      ]
     },
     "metadata": {},
     "output_type": "display_data"
    }
   ],
   "source": [
    "plt.figure()\n",
    "plt.plot(train[class_train==1,1],train[class_train==1,2],'ko')  # class 1 in black\n",
    "plt.plot(train[class_train==2,1],train[class_train==2,2],'mo')  # class 2 in magenta\n",
    "\n",
    "plt.show()\n",
    "\n",
    "# plt.plot(test[class_pred==1,1],test[class_pred==1,2],'rs')  # red = predicted class = 1\n",
    "# plt.plot(test[class_pred==2,1],test[class_pred==1,2],'gs')  # green = predicted class = 2"
   ]
  },
  {
   "cell_type": "markdown",
   "metadata": {},
   "source": [
    "where `class_pred` contains the class predicted by your K-NN algorithm (TO DO !)."
   ]
  },
  {
   "cell_type": "code",
   "execution_count": 34,
   "metadata": {},
   "outputs": [
    {
     "name": "stdout",
     "output_type": "stream",
     "text": [
      "(200,)\n",
      "(100, 200)\n",
      "(100, 200)\n",
      "(100, 200)\n"
     ]
    }
   ],
   "source": [
    "# b. Implement the K-nearest neighbours algorithm for classification.\n",
    "K = 1\n",
    "\n",
    "# On calcule la matrice distances_square (N_test, N_train) : distances[i,j] donne la distance entre le point i du training set et\n",
    "# le point j du test set\n",
    "\n",
    "tile_x_test = np.tile(x_test[:,0],(N_train,1))\n",
    "tile_y_test = np.tile(x_test[:,1],(N_train,1))\n",
    "\n",
    "tile_x_train = np.transpose(np.tile(x_train[:,0],(N_test,1)))\n",
    "tile_y_train = np.transpose(np.tile(x_train[:,1],(N_test,1)))\n",
    "\n",
    "diff_x_square = np.square(tile_x_test - tile_x_train)\n",
    "diff_y_square = np.square(tile_y_test - tile_y_train)\n",
    "\n",
    "distances_square = diff_x_square + diff_y_square\n",
    "\n",
    "indx_sort = np.argsort(distances_square,axis=0)\n",
    "\n",
    "knearest = indx_sort[:K,:]\n",
    "\n",
    "\n",
    "print(x_test[:,0].shape)\n",
    "print(tile_x_train.shape)\n",
    "print(tile_x_test.shape)\n",
    "print(distances_square.shape)\n",
    "#tile_x_train = np.tile(x_train.reshape(N_train*2), (N_test,1))\n",
    "#distances = np.square(tile_x_test - tile_x_train)\n",
    "#print(distances.shape)"
   ]
  },
  {
   "cell_type": "code",
   "execution_count": 29,
   "metadata": {},
   "outputs": [
    {
     "name": "stdout",
     "output_type": "stream",
     "text": [
      "(3,)\n"
     ]
    },
    {
     "data": {
      "text/plain": [
       "array([[0, 1, 2],\n",
       "       [0, 1, 2],\n",
       "       [0, 1, 2],\n",
       "       [0, 1, 2],\n",
       "       [0, 1, 2]])"
      ]
     },
     "execution_count": 29,
     "metadata": {},
     "output_type": "execute_result"
    }
   ],
   "source": [
    "# c. Compute the error rate on the training set and the test set for K = 1,...,30.\n",
    "\n",
    "a = np.array([0, 1, 2])\n",
    "print(a.shape)\n",
    "np.tile(a, (5,1))"
   ]
  },
  {
   "cell_type": "code",
   "execution_count": null,
   "metadata": {
    "collapsed": true
   },
   "outputs": [],
   "source": [
    "# d. Comment on your results. Which value of K seems optimal ?"
   ]
  },
  {
   "cell_type": "markdown",
   "metadata": {},
   "source": [
    "### 2. Application to a real data set : Breast cancer Wisconsin.\n",
    "\n",
    "** TO DO: Apply the K-NN classifier to the provided set wdbc12.data.txt.**\n",
    "\n",
    "Information about the data is provided in `wdbc12.names.txt`."
   ]
  },
  {
   "cell_type": "markdown",
   "metadata": {},
   "source": [
    "### 3. Making K-NN faster using `cython`\n",
    "\n",
    "Cython is a package that permits to interface C code with Python easily. It may be useful to make your code faster for a small coding effort, in particular when using long loops.\n",
    "\n",
    "See <http://docs.cython.org/en/latest/src/tutorial/cython_tutorial.html> for more details.\n",
    "\n",
    "_Indication : an example is given in the notebook_ **`cython_example.ipy`**.\n",
    "\n",
    "** TO DO (subsidiary):** Here you may use it to implement a faster version of K-NN."
   ]
  },
  {
   "cell_type": "markdown",
   "metadata": {
    "collapsed": true
   },
   "source": [
    "### ALERT for Windows'users\n",
    "**Cython does not work properly if some precautions are not taken into account !**\n",
    "\n",
    "See <https://github.com/cython/cython/wiki/CythonExtensionsOnWindows>  for detailed explanations."
   ]
  },
  {
   "cell_type": "code",
   "execution_count": null,
   "metadata": {
    "collapsed": true
   },
   "outputs": [],
   "source": []
  }
 ],
 "metadata": {
  "kernelspec": {
   "display_name": "Python 3",
   "language": "python",
   "name": "python3"
  },
  "language_info": {
   "codemirror_mode": {
    "name": "ipython",
    "version": 3
   },
   "file_extension": ".py",
   "mimetype": "text/x-python",
   "name": "python",
   "nbconvert_exporter": "python",
   "pygments_lexer": "ipython3",
   "version": "3.6.5"
  }
 },
 "nbformat": 4,
 "nbformat_minor": 2
}
